{
 "cells": [
  {
   "cell_type": "code",
   "execution_count": 1,
   "metadata": {
    "collapsed": false,
    "deletable": true,
    "editable": true
   },
   "outputs": [],
   "source": [
    "import csv\n",
    "import matplotlib.pyplot as plt\n",
    "import numpy as np\n",
    "import tensorflow as tf\n",
    "import os\n",
    "from tensorflow.python.ops import rnn, rnn_cell\n",
    "import random"
   ]
  },
  {
   "cell_type": "markdown",
   "metadata": {
    "deletable": true,
    "editable": true
   },
   "source": [
    "# Hyperparameters"
   ]
  },
  {
   "cell_type": "code",
   "execution_count": 28,
   "metadata": {
    "collapsed": true,
    "deletable": true,
    "editable": true
   },
   "outputs": [],
   "source": [
    "train_length = 1000\n",
    "test_length = 1500\n",
    "\n",
    "discount_rate = 0.995\n",
    "rnn_size = 10\n",
    "\n",
    "sampling_rate = 200\n",
    "striding = 100\n",
    "train_steps = 1000"
   ]
  },
  {
   "cell_type": "code",
   "execution_count": 3,
   "metadata": {
    "collapsed": true,
    "deletable": true,
    "editable": true
   },
   "outputs": [],
   "source": [
    "def downgrade_and_feature(array):\n",
    "    nchannels = array.shape[0]\n",
    "    data_length = array.shape[1]\n",
    "    \n",
    "    temp = np.zeros(data_length)\n",
    "    \n",
    "    for j in range(data_length):\n",
    "        for i in range(nchannels):\n",
    "            temp[j] += array[i][j]\n",
    "        temp[j]/=nchannels\n",
    "    \n",
    "    reduced_length = int(data_length/striding)\n",
    "\n",
    "    averages = np.zeros(reduced_length, dtype = np.float32)   \n",
    "    variations = np.zeros(reduced_length, dtype = np.float32)\n",
    "    \n",
    "    for i in range(reduced_length):\n",
    "        averages[i] = np.average(temp[striding*i:striding*(i+1)])\n",
    "        variations[i] = np.var(temp[striding*i:striding*(i+1)])\n",
    "        \n",
    "    return {'averages' : averages,'variations' : variations}"
   ]
  },
  {
   "cell_type": "code",
   "execution_count": 4,
   "metadata": {
    "collapsed": true,
    "deletable": true,
    "editable": true
   },
   "outputs": [],
   "source": [
    "def dataload(patient_number, dataset_number):\n",
    "    try :\n",
    "        input_folder_path = '/home/maestroj/medical_analysis/eeg_csv'\n",
    "        input_data_name = 'data{}_{}.csv'.format(patient_number,dataset_number)\n",
    "        input_data_path = os.path.join(input_folder_path,input_data_name)\n",
    "        input_file = open(input_data_path,'r',newline='')\n",
    "        reader = csv.reader(input_file, delimiter=',')\n",
    "        print(\"{} is loaded\".format(input_data_name))\n",
    "        temp = []\n",
    "        for row in reader:\n",
    "            temp.append(row)\n",
    "        temp = np.array(temp, dtype=np.float32)\n",
    "        temp = np.transpose(temp)\n",
    "        return temp\n",
    "    except FileNotFoundError:\n",
    "        print(\"No such File\")\n",
    "        temp = []\n",
    "        temp = np.array(temp)\n",
    "        return temp"
   ]
  },
  {
   "cell_type": "code",
   "execution_count": 5,
   "metadata": {
    "collapsed": true,
    "deletable": true,
    "editable": true
   },
   "outputs": [],
   "source": [
    "def normal_data_load(patient_number, iswakeup=0):\n",
    "    try :\n",
    "        input_folder_path = '/home/maestroj/medical_analysis/eeg_normal'\n",
    "        input_data_name = 'data{}xs.csv'.format(patient_number)\n",
    "        if iswakeup == 1:\n",
    "            input_data_name = 'data{}w.csv'.format(patient_number)\n",
    "        input_data_path = os.path.join(input_folder_path,input_data_name)\n",
    "        input_file = open(input_data_path,'r',newline='')\n",
    "        reader = csv.reader(input_file, delimiter=',')\n",
    "        print(\"{} is loaded\".format(input_data_name))\n",
    "        temp = []\n",
    "        for row in reader:\n",
    "            temp.append(row)\n",
    "        temp = np.array(temp, dtype=np.float32)\n",
    "        temp = np.transpose(temp)\n",
    "        return temp\n",
    "    except FileNotFoundError:\n",
    "        print(\"No such File\")\n",
    "        temp = []\n",
    "        temp = np.array(temp)\n",
    "        return temp"
   ]
  },
  {
   "cell_type": "code",
   "execution_count": 6,
   "metadata": {
    "collapsed": true,
    "deletable": true,
    "editable": true
   },
   "outputs": [],
   "source": [
    "def time_axis_maker(array, sec_per_cell,init = 0):\n",
    "    final = init + sec_per_cell*(len(array)-1)\n",
    "    return np.linspace(init,final,len(array))"
   ]
  },
  {
   "cell_type": "markdown",
   "metadata": {
    "deletable": true,
    "editable": true
   },
   "source": [
    "# Onset-time data"
   ]
  },
  {
   "cell_type": "code",
   "execution_count": 7,
   "metadata": {
    "collapsed": true,
    "deletable": true,
    "editable": true
   },
   "outputs": [],
   "source": [
    "def seizure_time_parser(onset_times,patient_number,data_set_number):\n",
    "    temp = str(onset_times[patient_number-1][data_set_number])\n",
    "    curr_onset_time = []\n",
    "    while temp.find('/')!=-1:\n",
    "        curr_onset_time.append(int(temp[0:temp.find('/')]))\n",
    "        temp=temp[temp.find('/')+1:]\n",
    "    curr_onset_time.append(int(float(temp)))\n",
    "    curr_onset_time=np.array(curr_onset_time)\n",
    "    return curr_onset_time"
   ]
  },
  {
   "cell_type": "code",
   "execution_count": 8,
   "metadata": {
    "collapsed": false,
    "deletable": true,
    "editable": true
   },
   "outputs": [],
   "source": [
    "seizure_file = open('seizure_times.csv','r',newline='')\n",
    "reader = csv.reader(seizure_file,delimiter=',')\n",
    "onset_times_temp=[]\n",
    "\n",
    "for row in reader:\n",
    "    onset_times_temp.append(row)\n",
    "    \n",
    "onset_times = []\n",
    "total_patient = len(onset_times_temp)\n",
    "event_number = np.zeros(total_patient,dtype=np.int32)\n",
    "#number of events of (i+1) patient = event_number[i]\n",
    "\n",
    "for i in range(total_patient):\n",
    "    event_number[i] = len(onset_times_temp[i])-1\n",
    "\n",
    "for p in range(total_patient):\n",
    "    temp = []\n",
    "    for d in range(event_number[p]):\n",
    "        temp.append(seizure_time_parser(onset_times_temp,p+1,d+1))\n",
    "    onset_times.append(temp)"
   ]
  },
  {
   "cell_type": "code",
   "execution_count": 9,
   "metadata": {
    "collapsed": false,
    "deletable": true,
    "editable": true
   },
   "outputs": [
    {
     "name": "stdout",
     "output_type": "stream",
     "text": [
      "The number of datasets of patients\n",
      "[ 7  7  6  3 10  1  7 13 16  8  8  5  3  6 31  8  2  4]\n",
      "1st patient's seizure time for each data_set\n",
      "[781]\n",
      "9th patient's seizure time for each data_set\n",
      "[array([200]), array([312]), array([624]), array([762]), array([752]), array([772]), array([884]), array([502]), array([ 94, 258]), array([836]), array([650]), array([636]), array([576]), array([656]), array([638]), array([706])]\n"
     ]
    }
   ],
   "source": [
    "print(\"The number of datasets of patients\")\n",
    "print(event_number)\n",
    "print(\"1st patient's seizure time for each data_set\")\n",
    "print(onset_times[0][1])\n",
    "print(\"9th patient's seizure time for each data_set\")\n",
    "print(onset_times[8])"
   ]
  },
  {
   "cell_type": "code",
   "execution_count": 10,
   "metadata": {
    "collapsed": false,
    "deletable": true,
    "editable": true
   },
   "outputs": [
    {
     "name": "stdout",
     "output_type": "stream",
     "text": [
      "data1_1.csv is loaded\n",
      "(22, 315200)\n",
      "(3152,)\n",
      "(3152,)\n"
     ]
    }
   ],
   "source": [
    "temp = dataload(1,1)\n",
    "print(temp.shape)\n",
    "result = downgrade_and_feature(temp)\n",
    "print(result['averages'].shape)\n",
    "print(result['variations'].shape)\n",
    "time = time_axis_maker(result['averages'], striding/sampling_rate)"
   ]
  },
  {
   "cell_type": "code",
   "execution_count": 11,
   "metadata": {
    "collapsed": false,
    "deletable": true,
    "editable": true
   },
   "outputs": [
    {
     "data": {
      "image/png": "[encoded data removed]",
      "text/plain": [
       "<matplotlib.figure.Figure at 0x7fb68266dd30>"
      ]
     },
     "metadata": {},
     "output_type": "display_data"
    },
    {
     "data": {
      "image/png": "[encoded data removed]",
      "text/plain": [
       "<matplotlib.figure.Figure at 0x7fb67e642780>"
      ]
     },
     "metadata": {},
     "output_type": "display_data"
    }
   ],
   "source": [
    "plt.plot(time, result['averages'])\n",
    "plt.vlines(onset_times[0][0], -1000, 1000, colors='r', linestyles='--')\n",
    "plt.show()\n",
    "\n",
    "plt.plot(time, result['variations'])\n",
    "plt.vlines(onset_times[0][0], -100000, 100000, colors='r', linestyles='--')\n",
    "plt.show()"
   ]
  },
  {
   "cell_type": "markdown",
   "metadata": {
    "deletable": true,
    "editable": true
   },
   "source": [
    "# Training_set"
   ]
  },
  {
   "cell_type": "code",
   "execution_count": 12,
   "metadata": {
    "collapsed": false,
    "deletable": true,
    "editable": true
   },
   "outputs": [],
   "source": [
    "def train_set_generator(patient_number, dataset_number):\n",
    "    temp = dataload(patient_number,dataset_number)\n",
    "    if len(temp)==0:\n",
    "        return\n",
    "    result = downgrade_and_feature(temp)\n",
    "    onset_time_temp = onset_times[patient_number-1][dataset_number-1]        \n",
    "\n",
    "    if len(onset_time_temp) > 1:\n",
    "        print(\"More than one onset time\")\n",
    "        return\n",
    "    \n",
    "    onset_time_temp = onset_time_temp[0]\n",
    "    \n",
    "    if onset_time_temp*sampling_rate/striding < train_length:\n",
    "        print(\"Wrong input\")\n",
    "        return\n",
    "    \n",
    "    input_data = np.zeros((2,train_length))\n",
    "    output_data = np.zeros(train_length)\n",
    "    \n",
    "    for i in range(train_length):\n",
    "        if i==0:\n",
    "            output_data[train_length-1] = 1\n",
    "        else :\n",
    "            output_data[train_length-1-i] = discount_rate*output_data[train_length-i] \n",
    "\n",
    "    onset_on_array = int(onset_time_temp*sampling_rate/striding)\n",
    "    \n",
    "    for i in range(train_length):\n",
    "        input_data[0][i] = result['averages'][onset_on_array-train_length+1+i]\n",
    "        input_data[1][i] = result['variations'][onset_on_array-train_length+1+i]\n",
    "\n",
    "    return {'input' : input_data, 'output' : output_data}"
   ]
  },
  {
   "cell_type": "code",
   "execution_count": 13,
   "metadata": {
    "collapsed": false
   },
   "outputs": [],
   "source": [
    "def train_set_generator2(patient_number, iswakeup=0):\n",
    "    temp = normal_data_load(patient_number,iswakeup)\n",
    "    if len(temp)==0:\n",
    "        return\n",
    "    result = downgrade_and_feature(temp)\n",
    "    original_length = len(result['averages'])\n",
    "    input_data = np.zeros((2,train_length))\n",
    "    output_data = np.zeros(train_length)\n",
    "    for i in range(train_length):\n",
    "        index = i%original_length\n",
    "        input_data[0][i] = result['averages'][index]\n",
    "        input_data[1][i] = result['variations'][index]\n",
    "    return {'input' : input_data, 'output' : output_data}"
   ]
  },
  {
   "cell_type": "code",
   "execution_count": 14,
   "metadata": {
    "collapsed": false,
    "deletable": true,
    "editable": true
   },
   "outputs": [
    {
     "name": "stdout",
     "output_type": "stream",
     "text": [
      "data1_1.csv is loaded\n"
     ]
    },
    {
     "data": {
      "image/png": "[encoded data removed]",
      "text/plain": [
       "<matplotlib.figure.Figure at 0x7fb63dd19518>"
      ]
     },
     "metadata": {},
     "output_type": "display_data"
    },
    {
     "data": {
      "image/png": "[encoded data removed]",
      "text/plain": [
       "<matplotlib.figure.Figure at 0x7fb660a1c7b8>"
      ]
     },
     "metadata": {},
     "output_type": "display_data"
    },
    {
     "data": {
      "image/png": "[encoded data removed]",
      "text/plain": [
       "<matplotlib.figure.Figure at 0x7fb67dc07da0>"
      ]
     },
     "metadata": {},
     "output_type": "display_data"
    },
    {
     "name": "stdout",
     "output_type": "stream",
     "text": [
      "(2, 1000)\n",
      "(1000,)\n"
     ]
    }
   ],
   "source": [
    "result = train_set_generator(1,1)\n",
    "plt.plot(result['input'][0])\n",
    "plt.show()\n",
    "plt.plot(result['input'][1])\n",
    "plt.show()\n",
    "plt.plot(result['output'])\n",
    "plt.show()\n",
    "print(result['input'].shape)\n",
    "print(result['output'].shape)"
   ]
  },
  {
   "cell_type": "code",
   "execution_count": 25,
   "metadata": {
    "collapsed": false
   },
   "outputs": [
    {
     "name": "stdout",
     "output_type": "stream",
     "text": [
      "Patient 1 and dataset 1\n",
      "data1_1.csv is loaded\n",
      "No such File\n",
      "Patient 1 and dataset 2\n",
      "data1_2.csv is loaded\n",
      "data1w.csv is loaded\n",
      "Patient 1 and dataset 3\n",
      "data1_3.csv is loaded\n",
      "No such File\n",
      "Patient 1 and dataset 4\n",
      "data1_4.csv is loaded\n",
      "data1w.csv is loaded\n",
      "Patient 1 and dataset 5\n",
      "data1_5.csv is loaded\n",
      "No such File\n",
      "Patient 1 and dataset 6\n",
      "data1_6.csv is loaded\n",
      "data1w.csv is loaded\n",
      "Patient 1 and dataset 7\n",
      "data1_7.csv is loaded\n",
      "No such File\n",
      "Patient 2 and dataset 1\n",
      "data2_1.csv is loaded\n",
      "No such File\n",
      "Patient 2 and dataset 2\n",
      "data2_2.csv is loaded\n",
      "data2w.csv is loaded\n",
      "Patient 2 and dataset 3\n",
      "data2_3.csv is loaded\n",
      "No such File\n",
      "Patient 2 and dataset 4\n",
      "data2_4.csv is loaded\n",
      "data2w.csv is loaded\n",
      "Patient 2 and dataset 5\n",
      "data2_5.csv is loaded\n",
      "No such File\n",
      "Patient 2 and dataset 6\n",
      "data2_6.csv is loaded\n",
      "data2w.csv is loaded\n",
      "Patient 2 and dataset 7\n",
      "data2_7.csv is loaded\n",
      "No such File\n",
      "Patient 3 and dataset 1\n",
      "data3_1.csv is loaded\n",
      "No such File\n",
      "Patient 3 and dataset 5\n",
      "data3_5.csv is loaded\n",
      "No such File\n",
      "Patient 3 and dataset 6\n",
      "data3_6.csv is loaded\n",
      "data3w.csv is loaded\n",
      "Patient 4 and dataset 1\n",
      "data4_1.csv is loaded\n",
      "No such File\n",
      "Patient 4 and dataset 2\n",
      "data4_2.csv is loaded\n",
      "data4w.csv is loaded\n",
      "Patient 4 and dataset 3\n",
      "data4_3.csv is loaded\n",
      "No such File\n",
      "Patient 5 and dataset 2\n",
      "data5_2.csv is loaded\n",
      "data5w.csv is loaded\n",
      "Patient 5 and dataset 3\n",
      "data5_3.csv is loaded\n",
      "No such File\n",
      "Patient 5 and dataset 4\n",
      "data5_4.csv is loaded\n",
      "data5w.csv is loaded\n",
      "Patient 6 and dataset 1\n",
      "data6_1.csv is loaded\n",
      "No such File\n",
      "Patient 7 and dataset 1\n",
      "data7_1.csv is loaded\n",
      "No such File\n",
      "Patient 7 and dataset 2\n",
      "data7_2.csv is loaded\n",
      "data7w.csv is loaded\n",
      "Patient 7 and dataset 3\n",
      "data7_3.csv is loaded\n",
      "No such File\n",
      "Patient 7 and dataset 4\n",
      "data7_4.csv is loaded\n",
      "data7w.csv is loaded\n",
      "Patient 7 and dataset 5\n",
      "data7_5.csv is loaded\n",
      "No such File\n",
      "Patient 7 and dataset 6\n",
      "data7_6.csv is loaded\n",
      "data7w.csv is loaded\n",
      "Patient 7 and dataset 7\n",
      "data7_7.csv is loaded\n",
      "No such File\n",
      "Patient 8 and dataset 1\n",
      "data8_1.csv is loaded\n",
      "No such File\n",
      "Patient 8 and dataset 2\n",
      "data8_2.csv is loaded\n",
      "data8w.csv is loaded\n",
      "Patient 8 and dataset 3\n",
      "data8_3.csv is loaded\n",
      "No such File\n",
      "Patient 8 and dataset 4\n",
      "data8_4.csv is loaded\n",
      "data8w.csv is loaded\n",
      "Patient 8 and dataset 5\n",
      "data8_5.csv is loaded\n",
      "No such File\n",
      "Patient 8 and dataset 6\n",
      "data8_6.csv is loaded\n",
      "data8w.csv is loaded\n",
      "Patient 8 and dataset 7\n",
      "data8_7.csv is loaded\n",
      "No such File\n",
      "Patient 8 and dataset 9\n",
      "data8_9.csv is loaded\n",
      "No such File\n",
      "Patient 8 and dataset 10\n",
      "data8_10.csv is loaded\n",
      "data8w.csv is loaded\n",
      "Patient 8 and dataset 11\n",
      "data8_11.csv is loaded\n",
      "No such File\n",
      "Patient 8 and dataset 12\n",
      "data8_12.csv is loaded\n",
      "data8w.csv is loaded\n",
      "Patient 8 and dataset 13\n",
      "data8_13.csv is loaded\n",
      "No such File\n",
      "Patient 9 and dataset 3\n",
      "data9_3.csv is loaded\n",
      "No such File\n",
      "Patient 9 and dataset 4\n",
      "data9_4.csv is loaded\n",
      "data9w.csv is loaded\n",
      "Patient 9 and dataset 5\n",
      "data9_5.csv is loaded\n",
      "No such File\n",
      "Patient 9 and dataset 6\n",
      "data9_6.csv is loaded\n",
      "data9w.csv is loaded\n",
      "Patient 9 and dataset 7\n",
      "data9_7.csv is loaded\n",
      "No such File\n",
      "Patient 9 and dataset 8\n",
      "data9_8.csv is loaded\n",
      "data9w.csv is loaded\n",
      "Patient 9 and dataset 10\n",
      "data9_10.csv is loaded\n",
      "data9w.csv is loaded\n",
      "Patient 9 and dataset 11\n",
      "data9_11.csv is loaded\n",
      "No such File\n",
      "Patient 9 and dataset 12\n",
      "data9_12.csv is loaded\n",
      "data9w.csv is loaded\n",
      "Patient 9 and dataset 13\n",
      "data9_13.csv is loaded\n",
      "No such File\n",
      "Patient 9 and dataset 14\n",
      "data9_14.csv is loaded\n",
      "data9w.csv is loaded\n",
      "Patient 9 and dataset 15\n",
      "data9_15.csv is loaded\n",
      "No such File\n",
      "Patient 9 and dataset 16\n",
      "data9_16.csv is loaded\n",
      "data9w.csv is loaded\n",
      "Patient 11 and dataset 1\n",
      "data11_1.csv is loaded\n",
      "No such File\n",
      "Patient 11 and dataset 2\n",
      "data11_2.csv is loaded\n",
      "data1w.csv is loaded\n",
      "Patient 11 and dataset 3\n",
      "data11_3.csv is loaded\n",
      "No such File\n",
      "Patient 11 and dataset 4\n",
      "data11_4.csv is loaded\n",
      "data1w.csv is loaded\n",
      "Patient 11 and dataset 5\n",
      "data11_5.csv is loaded\n",
      "No such File\n",
      "Patient 11 and dataset 6\n",
      "data11_6.csv is loaded\n",
      "data1w.csv is loaded\n",
      "Patient 11 and dataset 7\n",
      "data11_7.csv is loaded\n",
      "No such File\n",
      "Patient 11 and dataset 8\n",
      "data11_8.csv is loaded\n",
      "data1w.csv is loaded\n",
      "Patient 12 and dataset 1\n",
      "data12_1.csv is loaded\n",
      "No such File\n",
      "Patient 13 and dataset 1\n",
      "data13_1.csv is loaded\n",
      "No such File\n",
      "Patient 13 and dataset 2\n",
      "data13_2.csv is loaded\n",
      "data3w.csv is loaded\n",
      "Patient 13 and dataset 3\n",
      "data13_3.csv is loaded\n",
      "No such File\n",
      "Patient 14 and dataset 1\n",
      "data14_1.csv is loaded\n",
      "No such File\n",
      "Patient 14 and dataset 2\n",
      "data14_2.csv is loaded\n",
      "data4w.csv is loaded\n",
      "Patient 14 and dataset 3\n",
      "data14_3.csv is loaded\n",
      "No such File\n",
      "Patient 14 and dataset 4\n",
      "data14_4.csv is loaded\n",
      "data4w.csv is loaded\n",
      "Patient 14 and dataset 5\n",
      "data14_5.csv is loaded\n",
      "No such File\n",
      "Patient 14 and dataset 6\n",
      "data14_6.csv is loaded\n",
      "data4w.csv is loaded\n",
      "Patient 15 and dataset 1\n",
      "data15_1.csv is loaded\n",
      "No such File\n",
      "Patient 15 and dataset 2\n",
      "data15_2.csv is loaded\n",
      "data5w.csv is loaded\n",
      "Patient 15 and dataset 3\n",
      "data15_3.csv is loaded\n",
      "No such File\n",
      "Patient 15 and dataset 9\n",
      "data15_9.csv is loaded\n",
      "No such File\n",
      "Patient 15 and dataset 10\n",
      "data15_10.csv is loaded\n",
      "data5w.csv is loaded\n",
      "Patient 15 and dataset 13\n",
      "data15_13.csv is loaded\n",
      "No such File\n",
      "Patient 15 and dataset 14\n",
      "data15_14.csv is loaded\n",
      "data5w.csv is loaded\n",
      "Patient 15 and dataset 15\n",
      "data15_15.csv is loaded\n",
      "No such File\n",
      "Patient 15 and dataset 16\n",
      "data15_16.csv is loaded\n",
      "data5w.csv is loaded\n",
      "Patient 15 and dataset 18\n",
      "data15_18.csv is loaded\n",
      "data5w.csv is loaded\n",
      "Patient 15 and dataset 19\n",
      "data15_19.csv is loaded\n",
      "No such File\n",
      "Patient 15 and dataset 21\n",
      "data15_21.csv is loaded\n",
      "No such File\n",
      "Patient 15 and dataset 22\n",
      "data15_22.csv is loaded\n",
      "data5w.csv is loaded\n",
      "Patient 15 and dataset 23\n",
      "data15_23.csv is loaded\n",
      "No such File\n",
      "Patient 15 and dataset 24\n",
      "data15_24.csv is loaded\n",
      "data5w.csv is loaded\n",
      "Patient 15 and dataset 25\n",
      "data15_25.csv is loaded\n",
      "No such File\n",
      "Patient 15 and dataset 26\n",
      "data15_26.csv is loaded\n",
      "data5w.csv is loaded\n",
      "Patient 15 and dataset 27\n",
      "data15_27.csv is loaded\n",
      "No such File\n",
      "Patient 15 and dataset 29\n",
      "data15_29.csv is loaded\n",
      "No such File\n",
      "Patient 15 and dataset 30\n",
      "data15_30.csv is loaded\n",
      "data5w.csv is loaded\n",
      "Patient 16 and dataset 1\n",
      "data16_1.csv is loaded\n",
      "No such File\n",
      "Patient 16 and dataset 2\n",
      "data16_2.csv is loaded\n",
      "data6w.csv is loaded\n",
      "Patient 16 and dataset 3\n",
      "data16_3.csv is loaded\n",
      "No such File\n",
      "Patient 16 and dataset 4\n",
      "data16_4.csv is loaded\n",
      "data6w.csv is loaded\n",
      "Patient 16 and dataset 5\n",
      "data16_5.csv is loaded\n",
      "No such File\n",
      "Patient 16 and dataset 6\n",
      "data16_6.csv is loaded\n",
      "data6w.csv is loaded\n",
      "Patient 16 and dataset 7\n",
      "data16_7.csv is loaded\n",
      "No such File\n",
      "Patient 16 and dataset 8\n",
      "data16_8.csv is loaded\n",
      "data6w.csv is loaded\n",
      "Patient 17 and dataset 1\n",
      "data17_1.csv is loaded\n",
      "No such File\n",
      "Patient 17 and dataset 2\n",
      "data17_2.csv is loaded\n",
      "data7w.csv is loaded\n",
      "Patient 18 and dataset 1\n",
      "data18_1.csv is loaded\n",
      "No such File\n",
      "Patient 18 and dataset 3\n",
      "data18_3.csv is loaded\n",
      "No such File\n",
      "Patient 18 and dataset 4\n",
      "data18_4.csv is loaded\n",
      "data8w.csv is loaded\n"
     ]
    }
   ],
   "source": [
    "train_input_data = []\n",
    "train_output_data = []\n",
    "\n",
    "for i in range(len(onset_times)):\n",
    "    for j in range(len(onset_times[i])):\n",
    "        if len(onset_times[i][j])>1:\n",
    "            continue;\n",
    "        onset_time_temp = onset_times[i][j][0]\n",
    "        if onset_time_temp*sampling_rate/striding < train_length:\n",
    "            continue;\n",
    "        print(\"Patient {} and dataset {}\".format(i+1,j+1))\n",
    "        result = train_set_generator(i+1, j+1)\n",
    "        input_data = result['input']\n",
    "        output_data = result['output']\n",
    "        \n",
    "        prob = random.random()\n",
    "        \n",
    "        if prob<0.8:\n",
    "            train_input_data.append(input_data)\n",
    "            train_output_data.append(output_data)\n",
    "\n",
    "        normal_number = i%10+1\n",
    "        iswakeup = j%2\n",
    "\n",
    "        result = train_set_generator2(normal_number, iswakeup)\n",
    "        if result == None:\n",
    "            continue;\n",
    "        input_data = result['input']\n",
    "        output_data = result['output']\n",
    "        if prob<0.8:\n",
    "            train_input_data.append(input_data)\n",
    "            train_output_data.append(output_data)\n",
    "            \n",
    "train_input_data = np.array(train_input_data)\n",
    "train_output_data = np.array(train_output_data)"
   ]
  },
  {
   "cell_type": "code",
   "execution_count": 34,
   "metadata": {
    "collapsed": false
   },
   "outputs": [
    {
     "name": "stdout",
     "output_type": "stream",
     "text": [
      "(129, 2, 1000)\n",
      "(129, 1000)\n",
      "129\n",
      "(2, 1000, 129)\n",
      "(1000, 129)\n"
     ]
    }
   ],
   "source": [
    "print(train_input_data.shape)\n",
    "print(train_output_data.shape)\n",
    "print(len(train_input_data))\n",
    "temp1 = np.transpose(train_input_data,[1,2,0])\n",
    "print(temp1.shape)\n",
    "temp2 = np.transpose(train_output_data,[1,0])\n",
    "print(temp2.shape)"
   ]
  },
  {
   "cell_type": "code",
   "execution_count": null,
   "metadata": {
    "collapsed": true
   },
   "outputs": [],
   "source": [
    "output_file_name1 = 'rnn_v6_input_average.csv'\n",
    "output_file_name2 = 'rnn_v6_input_variation.csv'\n",
    "output_file_name3 = 'rnn_v6_output.csv'\n",
    "\n",
    "csv_file = open(output_file_name1, \"w\")\n",
    "cw = csv.writer(csv_file , delimiter=',')\n",
    "\n",
    "size = train_length\n",
    "for i in range(size):\n",
    "    row =   temp1[0][i]\n",
    "    cw.writerow(row)\n",
    "\n",
    "csv_file = open(output_file_name2, \"w\")\n",
    "cw = csv.writer(csv_file , delimiter=',')\n",
    "for i in range(size):\n",
    "    row =   temp1[1][i]\n",
    "    cw.writerow(row)\n",
    "    \n",
    "csv_file = open(output_file_name3, \"w\")\n",
    "cw = csv.writer(csv_file , delimiter=',')\n",
    "\n",
    "temp1 = np.transpose(train_input_data,[1,2,0])\n",
    "for i in range(size):\n",
    "    row =   temp1[0][i]\n",
    "    cw.writerow(row)\n",
    "\n"
   ]
  },
  {
   "cell_type": "markdown",
   "metadata": {
    "deletable": true,
    "editable": true
   },
   "source": [
    "# Neural network"
   ]
  },
  {
   "cell_type": "code",
   "execution_count": 24,
   "metadata": {
    "collapsed": false,
    "deletable": true,
    "editable": true
   },
   "outputs": [
    {
     "name": "stdout",
     "output_type": "stream",
     "text": [
      "Tensor(\"rnn_9/pack:0\", shape=(1000, ?, 10), dtype=float32)\n",
      "Tensor(\"rnn_9/transpose:0\", shape=(?, 1000, 10), dtype=float32)\n",
      "Tensor(\"rnn_9/add:0\", shape=(?, 1), dtype=float32)\n",
      "Tensor(\"rnn_9/Reshape_1:0\", shape=(?, 1000, 1), dtype=float32)\n",
      "Tensor(\"rnn_9/Reshape_3:0\", shape=(?, 1500, 1), dtype=float32)\n",
      "Tensor(\"rnn_9/Reshape_4:0\", shape=(?, 1000, 1), dtype=float32)\n"
     ]
    }
   ],
   "source": [
    "x = tf.placeholder(tf.float32, shape=[None, 2, train_length])\n",
    "y = tf.placeholder(tf.float32, shape=[None, train_length])\n",
    "test_x = tf.placeholder(tf.float32, shape=[None, 2, test_length])\n",
    "\n",
    "rnn_tei_x = tf.transpose(test_x, [2,0,1])\n",
    "rnn_tei_x = tf.reshape(rnn_tei_x, [-1,2])\n",
    "rnn_tei_x = tf.split(0, test_length, rnn_tei_x)\n",
    "\n",
    "rnn_tri_x = tf.transpose(x, [2,0,1])\n",
    "rnn_tri_x = tf.reshape(rnn_tri_x, [-1,2])\n",
    "rnn_tri_x = tf.split(0, train_length, rnn_tri_x)\n",
    "\n",
    "with tf.variable_scope(\"rnn\") as scope:\n",
    "    lstm_cell = rnn_cell.LSTMCell(rnn_size)\n",
    "\n",
    "    W = tf.Variable(tf.truncated_normal([rnn_size,1], stddev=0.01))\n",
    "    b = tf.Variable(tf.constant(0.01, shape=[1]))\n",
    "    \n",
    "    outputs, states = rnn.rnn(lstm_cell, inputs = rnn_tri_x, dtype=tf.float32)\n",
    "    temp_outputs = tf.pack(outputs)\n",
    "    temp_outputs = tf.transpose(temp_outputs, [1,0,2])\n",
    "    temp_outputs = tf.reshape(temp_outputs,[-1,rnn_size])\n",
    "    temp_outputs = tf.matmul(temp_outputs,W)+b\n",
    "    temp_outputs = tf.reshape(temp_outputs,[-1,train_length,1])\n",
    "    print(temp_outputs)\n",
    "    \n",
    "    scope.reuse_variables()\n",
    "    test_outputs, test_states = rnn.rnn(lstm_cell, inputs = rnn_tei_x, dtype =tf.float32)\n",
    "    temp_test_outputs = tf.pack(test_outputs)\n",
    "    temp_test_outputs = tf.transpose(temp_test_outputs, [1,0,2])\n",
    "    temp_test_outputs = tf.reshape(temp_test_outputs,[-1,rnn_size])\n",
    "    temp_test_outputs = tf.matmul(temp_test_outputs,W)+b\n",
    "    temp_test_outputs = tf.reshape(temp_test_outputs,[-1,test_length,1])    \n",
    "    print(temp_test_outputs)\n",
    "    \n",
    "    temp_y = tf.reshape(y,[-1,train_length,1])\n",
    "    print(temp_y)"
   ]
  },
  {
   "cell_type": "code",
   "execution_count": 29,
   "metadata": {
    "collapsed": false,
    "deletable": true,
    "editable": true
   },
   "outputs": [],
   "source": [
    "cost = tf.reduce_mean(tf.square(temp_outputs-temp_y))\n",
    "train = tf.train.AdamOptimizer(1e-3).minimize(cost)\n",
    "\n",
    "sess = tf.Session()\n",
    "sess.run(tf.global_variables_initializer())"
   ]
  },
  {
   "cell_type": "code",
   "execution_count": 31,
   "metadata": {
    "collapsed": false
   },
   "outputs": [
    {
     "name": "stdout",
     "output_type": "stream",
     "text": [
      "0th run cost = 0.11382706463336945\n",
      "100th run cost = 0.05200079083442688\n",
      "200th run cost = 0.04408244416117668\n",
      "300th run cost = 0.03964800015091896\n",
      "400th run cost = 0.03550788760185242\n",
      "500th run cost = 0.027448279783129692\n",
      "600th run cost = 0.021361328661441803\n"
     ]
    },
    {
     "ename": "KeyboardInterrupt",
     "evalue": "",
     "output_type": "error",
     "traceback": [
      "\u001b[0;31m---------------------------------------------------------------------------\u001b[0m",
      "\u001b[0;31mKeyboardInterrupt\u001b[0m                         Traceback (most recent call last)",
      "\u001b[0;32m<ipython-input-31-da8a958b9560>\u001b[0m in \u001b[0;36m<module>\u001b[0;34m()\u001b[0m\n\u001b[1;32m      1\u001b[0m \u001b[0;32mfor\u001b[0m \u001b[0mstep\u001b[0m \u001b[0;32min\u001b[0m \u001b[0mrange\u001b[0m\u001b[0;34m(\u001b[0m\u001b[0mtrain_steps\u001b[0m\u001b[0;34m+\u001b[0m\u001b[0;36m1\u001b[0m\u001b[0;34m)\u001b[0m\u001b[0;34m:\u001b[0m\u001b[0;34m\u001b[0m\u001b[0m\n\u001b[0;32m----> 2\u001b[0;31m     \u001b[0mopt\u001b[0m\u001b[0;34m,\u001b[0m \u001b[0mc\u001b[0m \u001b[0;34m=\u001b[0m \u001b[0msess\u001b[0m\u001b[0;34m.\u001b[0m\u001b[0mrun\u001b[0m\u001b[0;34m(\u001b[0m\u001b[0;34m[\u001b[0m\u001b[0mtrain\u001b[0m\u001b[0;34m,\u001b[0m \u001b[0mcost\u001b[0m\u001b[0;34m]\u001b[0m\u001b[0;34m,\u001b[0m \u001b[0mfeed_dict\u001b[0m\u001b[0;34m=\u001b[0m\u001b[0;34m{\u001b[0m\u001b[0mx\u001b[0m\u001b[0;34m:\u001b[0m \u001b[0mtrain_input_data\u001b[0m\u001b[0;34m,\u001b[0m \u001b[0my\u001b[0m\u001b[0;34m:\u001b[0m \u001b[0mtrain_output_data\u001b[0m\u001b[0;34m}\u001b[0m\u001b[0;34m)\u001b[0m\u001b[0;34m\u001b[0m\u001b[0m\n\u001b[0m\u001b[1;32m      3\u001b[0m     \u001b[0;32mif\u001b[0m \u001b[0mstep\u001b[0m\u001b[0;34m%\u001b[0m\u001b[0;36m100\u001b[0m\u001b[0;34m==\u001b[0m\u001b[0;36m0\u001b[0m\u001b[0;34m:\u001b[0m\u001b[0;34m\u001b[0m\u001b[0m\n\u001b[1;32m      4\u001b[0m         \u001b[0mprint\u001b[0m\u001b[0;34m(\u001b[0m\u001b[0;34m\"{}th run cost = {}\"\u001b[0m\u001b[0;34m.\u001b[0m\u001b[0mformat\u001b[0m\u001b[0;34m(\u001b[0m\u001b[0mstep\u001b[0m\u001b[0;34m,\u001b[0m\u001b[0mc\u001b[0m\u001b[0;34m)\u001b[0m\u001b[0;34m)\u001b[0m\u001b[0;34m\u001b[0m\u001b[0m\n",
      "\u001b[0;32m/home/maestroj/.local/lib/python3.5/site-packages/tensorflow/python/client/session.py\u001b[0m in \u001b[0;36mrun\u001b[0;34m(self, fetches, feed_dict, options, run_metadata)\u001b[0m\n\u001b[1;32m    764\u001b[0m     \u001b[0;32mtry\u001b[0m\u001b[0;34m:\u001b[0m\u001b[0;34m\u001b[0m\u001b[0m\n\u001b[1;32m    765\u001b[0m       result = self._run(None, fetches, feed_dict, options_ptr,\n\u001b[0;32m--> 766\u001b[0;31m                          run_metadata_ptr)\n\u001b[0m\u001b[1;32m    767\u001b[0m       \u001b[0;32mif\u001b[0m \u001b[0mrun_metadata\u001b[0m\u001b[0;34m:\u001b[0m\u001b[0;34m\u001b[0m\u001b[0m\n\u001b[1;32m    768\u001b[0m         \u001b[0mproto_data\u001b[0m \u001b[0;34m=\u001b[0m \u001b[0mtf_session\u001b[0m\u001b[0;34m.\u001b[0m\u001b[0mTF_GetBuffer\u001b[0m\u001b[0;34m(\u001b[0m\u001b[0mrun_metadata_ptr\u001b[0m\u001b[0;34m)\u001b[0m\u001b[0;34m\u001b[0m\u001b[0m\n",
      "\u001b[0;32m/home/maestroj/.local/lib/python3.5/site-packages/tensorflow/python/client/session.py\u001b[0m in \u001b[0;36m_run\u001b[0;34m(self, handle, fetches, feed_dict, options, run_metadata)\u001b[0m\n\u001b[1;32m    962\u001b[0m     \u001b[0;32mif\u001b[0m \u001b[0mfinal_fetches\u001b[0m \u001b[0;32mor\u001b[0m \u001b[0mfinal_targets\u001b[0m\u001b[0;34m:\u001b[0m\u001b[0;34m\u001b[0m\u001b[0m\n\u001b[1;32m    963\u001b[0m       results = self._do_run(handle, final_targets, final_fetches,\n\u001b[0;32m--> 964\u001b[0;31m                              feed_dict_string, options, run_metadata)\n\u001b[0m\u001b[1;32m    965\u001b[0m     \u001b[0;32melse\u001b[0m\u001b[0;34m:\u001b[0m\u001b[0;34m\u001b[0m\u001b[0m\n\u001b[1;32m    966\u001b[0m       \u001b[0mresults\u001b[0m \u001b[0;34m=\u001b[0m \u001b[0;34m[\u001b[0m\u001b[0;34m]\u001b[0m\u001b[0;34m\u001b[0m\u001b[0m\n",
      "\u001b[0;32m/home/maestroj/.local/lib/python3.5/site-packages/tensorflow/python/client/session.py\u001b[0m in \u001b[0;36m_do_run\u001b[0;34m(self, handle, target_list, fetch_list, feed_dict, options, run_metadata)\u001b[0m\n\u001b[1;32m   1012\u001b[0m     \u001b[0;32mif\u001b[0m \u001b[0mhandle\u001b[0m \u001b[0;32mis\u001b[0m \u001b[0;32mNone\u001b[0m\u001b[0;34m:\u001b[0m\u001b[0;34m\u001b[0m\u001b[0m\n\u001b[1;32m   1013\u001b[0m       return self._do_call(_run_fn, self._session, feed_dict, fetch_list,\n\u001b[0;32m-> 1014\u001b[0;31m                            target_list, options, run_metadata)\n\u001b[0m\u001b[1;32m   1015\u001b[0m     \u001b[0;32melse\u001b[0m\u001b[0;34m:\u001b[0m\u001b[0;34m\u001b[0m\u001b[0m\n\u001b[1;32m   1016\u001b[0m       return self._do_call(_prun_fn, self._session, handle, feed_dict,\n",
      "\u001b[0;32m/home/maestroj/.local/lib/python3.5/site-packages/tensorflow/python/client/session.py\u001b[0m in \u001b[0;36m_do_call\u001b[0;34m(self, fn, *args)\u001b[0m\n\u001b[1;32m   1019\u001b[0m   \u001b[0;32mdef\u001b[0m \u001b[0m_do_call\u001b[0m\u001b[0;34m(\u001b[0m\u001b[0mself\u001b[0m\u001b[0;34m,\u001b[0m \u001b[0mfn\u001b[0m\u001b[0;34m,\u001b[0m \u001b[0;34m*\u001b[0m\u001b[0margs\u001b[0m\u001b[0;34m)\u001b[0m\u001b[0;34m:\u001b[0m\u001b[0;34m\u001b[0m\u001b[0m\n\u001b[1;32m   1020\u001b[0m     \u001b[0;32mtry\u001b[0m\u001b[0;34m:\u001b[0m\u001b[0;34m\u001b[0m\u001b[0m\n\u001b[0;32m-> 1021\u001b[0;31m       \u001b[0;32mreturn\u001b[0m \u001b[0mfn\u001b[0m\u001b[0;34m(\u001b[0m\u001b[0;34m*\u001b[0m\u001b[0margs\u001b[0m\u001b[0;34m)\u001b[0m\u001b[0;34m\u001b[0m\u001b[0m\n\u001b[0m\u001b[1;32m   1022\u001b[0m     \u001b[0;32mexcept\u001b[0m \u001b[0merrors\u001b[0m\u001b[0;34m.\u001b[0m\u001b[0mOpError\u001b[0m \u001b[0;32mas\u001b[0m \u001b[0me\u001b[0m\u001b[0;34m:\u001b[0m\u001b[0;34m\u001b[0m\u001b[0m\n\u001b[1;32m   1023\u001b[0m       \u001b[0mmessage\u001b[0m \u001b[0;34m=\u001b[0m \u001b[0mcompat\u001b[0m\u001b[0;34m.\u001b[0m\u001b[0mas_text\u001b[0m\u001b[0;34m(\u001b[0m\u001b[0me\u001b[0m\u001b[0;34m.\u001b[0m\u001b[0mmessage\u001b[0m\u001b[0;34m)\u001b[0m\u001b[0;34m\u001b[0m\u001b[0m\n",
      "\u001b[0;32m/home/maestroj/.local/lib/python3.5/site-packages/tensorflow/python/client/session.py\u001b[0m in \u001b[0;36m_run_fn\u001b[0;34m(session, feed_dict, fetch_list, target_list, options, run_metadata)\u001b[0m\n\u001b[1;32m   1001\u001b[0m         return tf_session.TF_Run(session, options,\n\u001b[1;32m   1002\u001b[0m                                  \u001b[0mfeed_dict\u001b[0m\u001b[0;34m,\u001b[0m \u001b[0mfetch_list\u001b[0m\u001b[0;34m,\u001b[0m \u001b[0mtarget_list\u001b[0m\u001b[0;34m,\u001b[0m\u001b[0;34m\u001b[0m\u001b[0m\n\u001b[0;32m-> 1003\u001b[0;31m                                  status, run_metadata)\n\u001b[0m\u001b[1;32m   1004\u001b[0m \u001b[0;34m\u001b[0m\u001b[0m\n\u001b[1;32m   1005\u001b[0m     \u001b[0;32mdef\u001b[0m \u001b[0m_prun_fn\u001b[0m\u001b[0;34m(\u001b[0m\u001b[0msession\u001b[0m\u001b[0;34m,\u001b[0m \u001b[0mhandle\u001b[0m\u001b[0;34m,\u001b[0m \u001b[0mfeed_dict\u001b[0m\u001b[0;34m,\u001b[0m \u001b[0mfetch_list\u001b[0m\u001b[0;34m)\u001b[0m\u001b[0;34m:\u001b[0m\u001b[0;34m\u001b[0m\u001b[0m\n",
      "\u001b[0;31mKeyboardInterrupt\u001b[0m: "
     ]
    }
   ],
   "source": [
    "for step in range(train_steps+1):\n",
    "    opt, c = sess.run([train, cost], feed_dict={x: train_input_data, y: train_output_data})\n",
    "    if step%100==0:\n",
    "        print(\"{}th run cost = {}\".format(step,c))"
   ]
  },
  {
   "cell_type": "markdown",
   "metadata": {
    "collapsed": false,
    "deletable": true,
    "editable": true
   },
   "source": [
    "train_data_set = []\n",
    "temp_train_data_set = [1,6,8,9,10,11,12,14,15,16,17,18]\n",
    "train_data_set.append(temp_train_data_set)\n",
    "temp_train_data_set = [1,3,4,5,6,7,8,9,10,11,12,13,14,15,16,17,18,20,21]\n",
    "train_data_set.append(temp_train_data_set)\n",
    "temp_train_data_set = [1,8,9,10,16,17]\n",
    "train_data_set.append(temp_train_data_set)\n",
    "print(train_data_set)"
   ]
  },
  {
   "cell_type": "code",
   "execution_count": 23,
   "metadata": {
    "collapsed": false,
    "deletable": true,
    "editable": true
   },
   "outputs": [
    {
     "data": {
      "text/plain": [
       "'rnn_v5'"
      ]
     },
     "execution_count": 23,
     "metadata": {},
     "output_type": "execute_result"
    }
   ],
   "source": [
    "tf.add_to_collection('test_input', test_x)\n",
    "tf.add_to_collection('hypothesis', temp_test_outputs)\n",
    "saver = tf.train.Saver()\n",
    "saver.save(sess,'rnn_v6')"
   ]
  }
 ],
 "metadata": {
  "anaconda-cloud": {},
  "kernelspec": {
   "display_name": "Python 3",
   "language": "python",
   "name": "python3"
  },
  "language_info": {
   "codemirror_mode": {
    "name": "ipython",
    "version": 3
   },
   "file_extension": ".py",
   "mimetype": "text/x-python",
   "name": "python",
   "nbconvert_exporter": "python",
   "pygments_lexer": "ipython3",
   "version": "3.5.2"
  }
 },
 "nbformat": 4,
 "nbformat_minor": 2
}
