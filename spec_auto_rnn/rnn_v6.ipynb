{
 "cells": [
  {
   "cell_type": "code",
   "execution_count": 1,
   "metadata": {
    "collapsed": false,
    "deletable": true,
    "editable": true
   },
   "outputs": [],
   "source": [
    "import csv\n",
    "import matplotlib.pyplot as plt\n",
    "import numpy as np\n",
    "import tensorflow as tf\n",
    "import os\n",
    "from tensorflow.python.ops import rnn, rnn_cell\n",
    "import random"
   ]
  },
  {
   "cell_type": "markdown",
   "metadata": {
    "deletable": true,
    "editable": true
   },
   "source": [
    "# Hyperparameters"
   ]
  },
  {
   "cell_type": "code",
   "execution_count": 2,
   "metadata": {
    "collapsed": true,
    "deletable": true,
    "editable": true
   },
   "outputs": [],
   "source": [
    "train_length = 1000\n",
    "test_length = 2000\n",
    "\n",
    "rnn_size = 10\n",
    "\n",
    "sampling_rate = 200\n",
    "striding = 100\n",
    "train_steps = 10000"
   ]
  },
  {
   "cell_type": "code",
   "execution_count": 3,
   "metadata": {
    "collapsed": true,
    "deletable": true,
    "editable": true
   },
   "outputs": [],
   "source": [
    "train_input_data = []\n",
    "train_output_data = [] "
   ]
  },
  {
   "cell_type": "code",
   "execution_count": 4,
   "metadata": {
    "collapsed": false,
    "deletable": true,
    "editable": true
   },
   "outputs": [],
   "source": [
    "input_file_name1 = 'rnn_v6_input_average.csv'\n",
    "input_file_name2 = 'rnn_v6_input_variation.csv'\n",
    "input_file_name3 = 'rnn_v6_output.csv'\n",
    "\n",
    "input_file = open(input_file_name1,'r',newline='')\n",
    "reader = csv.reader(input_file, delimiter=',')\n",
    "temp = []\n",
    "for row in reader:\n",
    "    temp.append(row)\n",
    "train_input_data.append(temp)"
   ]
  },
  {
   "cell_type": "code",
   "execution_count": 5,
   "metadata": {
    "collapsed": true
   },
   "outputs": [],
   "source": [
    "input_file = open(input_file_name2,'r',newline='')\n",
    "reader = csv.reader(input_file, delimiter=',')\n",
    "temp = []\n",
    "for row in reader:\n",
    "    temp.append(row)\n",
    "train_input_data.append(temp)"
   ]
  },
  {
   "cell_type": "code",
   "execution_count": 6,
   "metadata": {
    "collapsed": true
   },
   "outputs": [],
   "source": [
    "input_file = open(input_file_name3,'r',newline='')\n",
    "reader = csv.reader(input_file, delimiter=',')\n",
    "for row in reader:\n",
    "    train_output_data.append(row)"
   ]
  },
  {
   "cell_type": "code",
   "execution_count": 7,
   "metadata": {
    "collapsed": false,
    "deletable": true,
    "editable": true
   },
   "outputs": [
    {
     "name": "stdout",
     "output_type": "stream",
     "text": [
      "(2, 1000, 134)\n",
      "(1000, 134)\n"
     ]
    }
   ],
   "source": [
    "train_input_data =np.array(train_input_data, dtype=np.float32)\n",
    "train_output_data=np.array(train_output_data, dtype=np.float32)\n",
    "print(train_input_data.shape)\n",
    "print(train_output_data.shape)"
   ]
  },
  {
   "cell_type": "code",
   "execution_count": 8,
   "metadata": {
    "collapsed": false,
    "deletable": true,
    "editable": true
   },
   "outputs": [
    {
     "name": "stdout",
     "output_type": "stream",
     "text": [
      "(134, 2, 1000)\n",
      "(134, 1000)\n"
     ]
    }
   ],
   "source": [
    "train_input_data = np.transpose(train_input_data, [2,0,1])\n",
    "train_output_data = np.transpose(train_output_data,[1,0])\n",
    "print(train_input_data.shape)\n",
    "print(train_output_data.shape)"
   ]
  },
  {
   "cell_type": "markdown",
   "metadata": {
    "deletable": true,
    "editable": true
   },
   "source": [
    "# Neural network"
   ]
  },
  {
   "cell_type": "code",
   "execution_count": 9,
   "metadata": {
    "collapsed": false,
    "deletable": true,
    "editable": true
   },
   "outputs": [
    {
     "name": "stdout",
     "output_type": "stream",
     "text": [
      "Tensor(\"rnn/Reshape_1:0\", shape=(?, 1000, 1), dtype=float32)\n",
      "Tensor(\"rnn/Reshape_3:0\", shape=(?, 2000, 1), dtype=float32)\n",
      "Tensor(\"rnn/Reshape_4:0\", shape=(?, 1000, 1), dtype=float32)\n"
     ]
    }
   ],
   "source": [
    "x = tf.placeholder(tf.float32, shape=[None, 2, train_length])\n",
    "y = tf.placeholder(tf.float32, shape=[None, train_length])\n",
    "test_x = tf.placeholder(tf.float32, shape=[None, 2, test_length])\n",
    "\n",
    "rnn_tei_x = tf.transpose(test_x, [2,0,1])\n",
    "rnn_tei_x = tf.reshape(rnn_tei_x, [-1,2])\n",
    "rnn_tei_x = tf.split(0, test_length, rnn_tei_x)\n",
    "\n",
    "rnn_tri_x = tf.transpose(x, [2,0,1])\n",
    "rnn_tri_x = tf.reshape(rnn_tri_x, [-1,2])\n",
    "rnn_tri_x = tf.split(0, train_length, rnn_tri_x)\n",
    "\n",
    "with tf.variable_scope(\"rnn\") as scope:\n",
    "    lstm_cell = rnn_cell.LSTMCell(rnn_size)\n",
    "\n",
    "    W = tf.Variable(tf.truncated_normal([rnn_size,1], stddev=0.01))\n",
    "    b = tf.Variable(tf.constant(0.01, shape=[1]))\n",
    "    \n",
    "    outputs, states = rnn.rnn(lstm_cell, inputs = rnn_tri_x, dtype=tf.float32)\n",
    "    temp_outputs = tf.pack(outputs)\n",
    "    temp_outputs = tf.transpose(temp_outputs, [1,0,2])\n",
    "    temp_outputs = tf.reshape(temp_outputs,[-1,rnn_size])\n",
    "    temp_outputs = tf.matmul(temp_outputs,W)+b\n",
    "    temp_outputs = tf.reshape(temp_outputs,[-1,train_length,1])\n",
    "    print(temp_outputs)\n",
    "    \n",
    "    scope.reuse_variables()\n",
    "    test_outputs, test_states = rnn.rnn(lstm_cell, inputs = rnn_tei_x, dtype =tf.float32)\n",
    "    temp_test_outputs = tf.pack(test_outputs)\n",
    "    temp_test_outputs = tf.transpose(temp_test_outputs, [1,0,2])\n",
    "    temp_test_outputs = tf.reshape(temp_test_outputs,[-1,rnn_size])\n",
    "    temp_test_outputs = tf.matmul(temp_test_outputs,W)+b\n",
    "    temp_test_outputs = tf.reshape(temp_test_outputs,[-1,test_length,1])    \n",
    "    print(temp_test_outputs)\n",
    "    \n",
    "    temp_y = tf.reshape(y,[-1,train_length,1])\n",
    "    print(temp_y)"
   ]
  },
  {
   "cell_type": "code",
   "execution_count": 10,
   "metadata": {
    "collapsed": false,
    "deletable": true,
    "editable": true
   },
   "outputs": [],
   "source": [
    "cost = tf.reduce_mean(tf.square(temp_outputs-temp_y))\n",
    "train = tf.train.AdamOptimizer(1e-3).minimize(cost)\n",
    "\n",
    "sess = tf.Session()\n",
    "sess.run(tf.global_variables_initializer())"
   ]
  },
  {
   "cell_type": "code",
   "execution_count": 11,
   "metadata": {
    "collapsed": false,
    "deletable": true,
    "editable": true
   },
   "outputs": [
    {
     "name": "stdout",
     "output_type": "stream",
     "text": [
      "0th run cost = 0.0654154121875763\n",
      "100th run cost = 0.04446537420153618\n",
      "200th run cost = 0.035738877952098846\n",
      "300th run cost = 0.027245044708251953\n",
      "400th run cost = 0.02294917032122612\n",
      "500th run cost = 0.02057117223739624\n",
      "600th run cost = 0.019496038556098938\n",
      "700th run cost = 0.018326235935091972\n",
      "800th run cost = 0.018089210614562035\n",
      "900th run cost = 0.01657538302242756\n",
      "1000th run cost = 0.016759853810071945\n",
      "1100th run cost = 0.017441803589463234\n",
      "1200th run cost = 0.01588333770632744\n",
      "1300th run cost = 0.013640363700687885\n",
      "1400th run cost = 0.01261586882174015\n",
      "1500th run cost = 0.012009171769022942\n",
      "1600th run cost = 0.013437283225357533\n",
      "1700th run cost = 0.011220943182706833\n",
      "1800th run cost = 0.010744400322437286\n",
      "1900th run cost = 0.010741069912910461\n",
      "2000th run cost = 0.010439334437251091\n",
      "2100th run cost = 0.009985974989831448\n",
      "2200th run cost = 0.009681904688477516\n",
      "2300th run cost = 0.009639997035264969\n",
      "2400th run cost = 0.009181233122944832\n",
      "2500th run cost = 0.009001169353723526\n",
      "2600th run cost = 0.008897383697330952\n",
      "2700th run cost = 0.008186733350157738\n",
      "2800th run cost = 0.008215224370360374\n",
      "2900th run cost = 0.007986624725162983\n",
      "3000th run cost = 0.007820629514753819\n",
      "3100th run cost = 0.007552271708846092\n",
      "3200th run cost = 0.007014513481408358\n",
      "3300th run cost = 0.006965902168303728\n",
      "3400th run cost = 0.007471847347915173\n",
      "3500th run cost = 0.00615618797019124\n",
      "3600th run cost = 0.006104478612542152\n",
      "3700th run cost = 0.00625982228666544\n",
      "3800th run cost = 0.005945956334471703\n",
      "3900th run cost = 0.005772020202130079\n",
      "4000th run cost = 0.007137301377952099\n",
      "4100th run cost = 0.005165366921573877\n",
      "4200th run cost = 0.005129022989422083\n",
      "4300th run cost = 0.004951051902025938\n",
      "4400th run cost = 0.005786274094134569\n",
      "4500th run cost = 0.004724796861410141\n",
      "4600th run cost = 0.004736480303108692\n",
      "4700th run cost = 0.004774797707796097\n",
      "4800th run cost = 0.0047304569743573666\n",
      "4900th run cost = 0.005568324588239193\n",
      "5000th run cost = 0.006322720553725958\n",
      "5100th run cost = 0.004855717532336712\n",
      "5200th run cost = 0.005537310615181923\n",
      "5300th run cost = 0.004293191246688366\n",
      "5400th run cost = 0.00486565288156271\n",
      "5500th run cost = 0.004527663346379995\n",
      "5600th run cost = 0.0048747593536973\n",
      "5700th run cost = 0.004167826846241951\n",
      "5800th run cost = 0.00447529461234808\n",
      "5900th run cost = 0.004134052898734808\n",
      "6000th run cost = 0.004350556991994381\n",
      "6100th run cost = 0.003981900401413441\n",
      "6200th run cost = 0.0036663294304162264\n",
      "6300th run cost = 0.004091556183993816\n",
      "6400th run cost = 0.003516619326546788\n",
      "6500th run cost = 0.0037745654117316008\n",
      "6600th run cost = 0.003403982613235712\n",
      "6700th run cost = 0.003305985825136304\n",
      "6800th run cost = 0.0033108654897660017\n",
      "6900th run cost = 0.0034617644269019365\n",
      "7000th run cost = 0.0032288178335875273\n",
      "7100th run cost = 0.003166481154039502\n",
      "7200th run cost = 0.0031817415729165077\n",
      "7300th run cost = 0.003437385894358158\n",
      "7400th run cost = 0.0031548491679131985\n",
      "7500th run cost = 0.003652616636827588\n",
      "7600th run cost = 0.003594905138015747\n",
      "7700th run cost = 0.003275268943980336\n",
      "7800th run cost = 0.002904909895732999\n",
      "7900th run cost = 0.0049882023595273495\n",
      "8000th run cost = 0.0057492125779390335\n",
      "8100th run cost = 0.003175693564116955\n",
      "8200th run cost = 0.00367866107262671\n",
      "8300th run cost = 0.002621444407850504\n",
      "8400th run cost = 0.0026168227195739746\n",
      "8500th run cost = 0.00252345809713006\n",
      "8600th run cost = 0.0030617101583629847\n",
      "8700th run cost = 0.0024357682559639215\n",
      "8800th run cost = 0.002670328365638852\n",
      "8900th run cost = 0.0030200963374227285\n",
      "9000th run cost = 0.002869291929528117\n",
      "9100th run cost = 0.0023446299601346254\n",
      "9200th run cost = 0.002271591918542981\n",
      "9300th run cost = 0.0024716092739254236\n",
      "9400th run cost = 0.0022146848496049643\n",
      "9500th run cost = 0.003351874416694045\n",
      "9600th run cost = 0.0035966618452221155\n",
      "9700th run cost = 0.0020968469325453043\n",
      "9800th run cost = 0.002138544572517276\n",
      "9900th run cost = 0.0020797420293092728\n",
      "10000th run cost = 0.0037066489458084106\n"
     ]
    }
   ],
   "source": [
    "for step in range(train_steps+1):\n",
    "    opt, c = sess.run([train, cost], feed_dict={x: train_input_data, y: train_output_data})\n",
    "    if step%100==0:\n",
    "        print(\"{}th run cost = {}\".format(step,c))"
   ]
  },
  {
   "cell_type": "code",
   "execution_count": 12,
   "metadata": {
    "collapsed": false,
    "deletable": true,
    "editable": true
   },
   "outputs": [
    {
     "data": {
      "text/plain": [
       "'rnn_v6'"
      ]
     },
     "execution_count": 12,
     "metadata": {},
     "output_type": "execute_result"
    }
   ],
   "source": [
    "tf.add_to_collection('test_input', test_x)\n",
    "tf.add_to_collection('hypothesis', temp_test_outputs)\n",
    "saver = tf.train.Saver()\n",
    "saver.save(sess,'rnn_v6')"
   ]
  }
 ],
 "metadata": {
  "anaconda-cloud": {},
  "kernelspec": {
   "display_name": "Python 3",
   "language": "python",
   "name": "python3"
  },
  "language_info": {
   "codemirror_mode": {
    "name": "ipython",
    "version": 3
   },
   "file_extension": ".py",
   "mimetype": "text/x-python",
   "name": "python",
   "nbconvert_exporter": "python",
   "pygments_lexer": "ipython3",
   "version": "3.5.2"
  }
 },
 "nbformat": 4,
 "nbformat_minor": 2
}
