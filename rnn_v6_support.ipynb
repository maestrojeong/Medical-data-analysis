{
 "cells": [
  {
   "cell_type": "code",
   "execution_count": 1,
   "metadata": {
    "collapsed": false,
    "deletable": true,
    "editable": true
   },
   "outputs": [],
   "source": [
    "import csv\n",
    "import matplotlib.pyplot as plt\n",
    "import numpy as np\n",
    "import tensorflow as tf\n",
    "import os\n",
    "from tensorflow.python.ops import rnn, rnn_cell\n",
    "import random"
   ]
  },
  {
   "cell_type": "markdown",
   "metadata": {
    "deletable": true,
    "editable": true
   },
   "source": [
    "# Hyperparameters"
   ]
  },
  {
   "cell_type": "code",
   "execution_count": 2,
   "metadata": {
    "collapsed": true,
    "deletable": true,
    "editable": true
   },
   "outputs": [],
   "source": [
    "train_length = 1000\n",
    "test_length = 1500\n",
    "\n",
    "discount_rate = 0.995\n",
    "rnn_size = 10\n",
    "\n",
    "sampling_rate = 200\n",
    "striding = 100\n",
    "train_steps = 1000"
   ]
  },
  {
   "cell_type": "code",
   "execution_count": 3,
   "metadata": {
    "collapsed": true,
    "deletable": true,
    "editable": true
   },
   "outputs": [],
   "source": [
    "def downgrade_and_feature(array):\n",
    "    nchannels = array.shape[0]\n",
    "    data_length = array.shape[1]\n",
    "    \n",
    "    temp = np.zeros(data_length)\n",
    "    \n",
    "    for j in range(data_length):\n",
    "        for i in range(nchannels):\n",
    "            temp[j] += array[i][j]\n",
    "        temp[j]/=nchannels\n",
    "    \n",
    "    reduced_length = int(data_length/striding)\n",
    "\n",
    "    averages = np.zeros(reduced_length, dtype = np.float32)   \n",
    "    variations = np.zeros(reduced_length, dtype = np.float32)\n",
    "    \n",
    "    for i in range(reduced_length):\n",
    "        averages[i] = np.average(temp[striding*i:striding*(i+1)])\n",
    "        variations[i] = np.var(temp[striding*i:striding*(i+1)])\n",
    "        \n",
    "    return {'averages' : averages,'variations' : variations}"
   ]
  },
  {
   "cell_type": "code",
   "execution_count": 4,
   "metadata": {
    "collapsed": true,
    "deletable": true,
    "editable": true
   },
   "outputs": [],
   "source": [
    "def dataload(patient_number, dataset_number):\n",
    "    try :\n",
    "        input_folder_path = '/home/maestroj/medical_analysis/eeg_csv'\n",
    "        input_data_name = 'data{}_{}.csv'.format(patient_number,dataset_number)\n",
    "        input_data_path = os.path.join(input_folder_path,input_data_name)\n",
    "        input_file = open(input_data_path,'r',newline='')\n",
    "        reader = csv.reader(input_file, delimiter=',')\n",
    "        print(\"{} is loaded\".format(input_data_name))\n",
    "        temp = []\n",
    "        for row in reader:\n",
    "            temp.append(row)\n",
    "        temp = np.array(temp, dtype=np.float32)\n",
    "        temp = np.transpose(temp)\n",
    "        return temp\n",
    "    except FileNotFoundError:\n",
    "        print(\"No such File\")\n",
    "        temp = []\n",
    "        temp = np.array(temp)\n",
    "        return temp"
   ]
  },
  {
   "cell_type": "code",
   "execution_count": 5,
   "metadata": {
    "collapsed": true,
    "deletable": true,
    "editable": true
   },
   "outputs": [],
   "source": [
    "def normal_data_load(patient_number, iswakeup=0):\n",
    "    try :\n",
    "        input_folder_path = '/home/maestroj/medical_analysis/eeg_normal'\n",
    "        input_data_name = 'data{}xs.csv'.format(patient_number)\n",
    "        if iswakeup == 1:\n",
    "            input_data_name = 'data{}w.csv'.format(patient_number)\n",
    "        input_data_path = os.path.join(input_folder_path,input_data_name)\n",
    "        input_file = open(input_data_path,'r',newline='')\n",
    "        reader = csv.reader(input_file, delimiter=',')\n",
    "        print(\"{} is loaded\".format(input_data_name))\n",
    "        temp = []\n",
    "        for row in reader:\n",
    "            temp.append(row)\n",
    "        temp = np.array(temp, dtype=np.float32)\n",
    "        temp = np.transpose(temp)\n",
    "        return temp\n",
    "    except FileNotFoundError:\n",
    "        print(\"No such File\")\n",
    "        temp = []\n",
    "        temp = np.array(temp)\n",
    "        return temp"
   ]
  },
  {
   "cell_type": "code",
   "execution_count": 6,
   "metadata": {
    "collapsed": true,
    "deletable": true,
    "editable": true
   },
   "outputs": [],
   "source": [
    "def time_axis_maker(array, sec_per_cell,init = 0):\n",
    "    final = init + sec_per_cell*(len(array)-1)\n",
    "    return np.linspace(init,final,len(array))"
   ]
  },
  {
   "cell_type": "markdown",
   "metadata": {
    "deletable": true,
    "editable": true
   },
   "source": [
    "# Onset-time data"
   ]
  },
  {
   "cell_type": "code",
   "execution_count": 7,
   "metadata": {
    "collapsed": true,
    "deletable": true,
    "editable": true
   },
   "outputs": [],
   "source": [
    "def seizure_time_parser(onset_times,patient_number,data_set_number):\n",
    "    temp = str(onset_times[patient_number-1][data_set_number])\n",
    "    curr_onset_time = []\n",
    "    while temp.find('/')!=-1:\n",
    "        curr_onset_time.append(int(temp[0:temp.find('/')]))\n",
    "        temp=temp[temp.find('/')+1:]\n",
    "    curr_onset_time.append(int(float(temp)))\n",
    "    curr_onset_time=np.array(curr_onset_time)\n",
    "    return curr_onset_time"
   ]
  },
  {
   "cell_type": "code",
   "execution_count": 8,
   "metadata": {
    "collapsed": false,
    "deletable": true,
    "editable": true
   },
   "outputs": [],
   "source": [
    "seizure_file = open('seizure_times.csv','r',newline='')\n",
    "reader = csv.reader(seizure_file,delimiter=',')\n",
    "onset_times_temp=[]\n",
    "\n",
    "for row in reader:\n",
    "    onset_times_temp.append(row)\n",
    "    \n",
    "onset_times = []\n",
    "total_patient = len(onset_times_temp)\n",
    "event_number = np.zeros(total_patient,dtype=np.int32)\n",
    "#number of events of (i+1) patient = event_number[i]\n",
    "\n",
    "for i in range(total_patient):\n",
    "    event_number[i] = len(onset_times_temp[i])-1\n",
    "\n",
    "for p in range(total_patient):\n",
    "    temp = []\n",
    "    for d in range(event_number[p]):\n",
    "        temp.append(seizure_time_parser(onset_times_temp,p+1,d+1))\n",
    "    onset_times.append(temp)"
   ]
  },
  {
   "cell_type": "code",
   "execution_count": 9,
   "metadata": {
    "collapsed": false,
    "deletable": true,
    "editable": true
   },
   "outputs": [
    {
     "name": "stdout",
     "output_type": "stream",
     "text": [
      "The number of datasets of patients\n",
      "[ 7  7  6  3 10  1  7 13 16  8  8  5  3  6 31  8  2  4]\n",
      "1st patient's seizure time for each data_set\n",
      "[781]\n",
      "9th patient's seizure time for each data_set\n",
      "[array([200]), array([312]), array([624]), array([762]), array([752]), array([772]), array([884]), array([502]), array([ 94, 258]), array([836]), array([650]), array([636]), array([576]), array([656]), array([638]), array([706])]\n"
     ]
    }
   ],
   "source": [
    "print(\"The number of datasets of patients\")\n",
    "print(event_number)\n",
    "print(\"1st patient's seizure time for each data_set\")\n",
    "print(onset_times[0][1])\n",
    "print(\"9th patient's seizure time for each data_set\")\n",
    "print(onset_times[8])"
   ]
  },
  {
   "cell_type": "code",
   "execution_count": 10,
   "metadata": {
    "collapsed": false,
    "deletable": true,
    "editable": true
   },
   "outputs": [
    {
     "name": "stdout",
     "output_type": "stream",
     "text": [
      "data1_1.csv is loaded\n",
      "(22, 315200)\n",
      "(3152,)\n",
      "(3152,)\n"
     ]
    }
   ],
   "source": [
    "temp = dataload(1,1)\n",
    "print(temp.shape)\n",
    "result = downgrade_and_feature(temp)\n",
    "print(result['averages'].shape)\n",
    "print(result['variations'].shape)\n",
    "time = time_axis_maker(result['averages'], striding/sampling_rate)"
   ]
  },
  {
   "cell_type": "code",
   "execution_count": 11,
   "metadata": {
    "collapsed": false,
    "deletable": true,
    "editable": true
   },
   "outputs": [
    {
     "data": {
      "image/png": "[encoded data removed]",
      "text/plain": [
       "<matplotlib.figure.Figure at 0x7fa1939c6c18>"
      ]
     },
     "metadata": {},
     "output_type": "display_data"
    },
    {
     "data": {
      "image/png": "[encoded data removed]",
      "text/plain": [
       "<matplotlib.figure.Figure at 0x7fa18f9b12e8>"
      ]
     },
     "metadata": {},
     "output_type": "display_data"
    }
   ],
   "source": [
    "plt.plot(time, result['averages'])\n",
    "plt.vlines(onset_times[0][0], -1000, 1000, colors='r', linestyles='--')\n",
    "plt.show()\n",
    "\n",
    "plt.plot(time, result['variations'])\n",
    "plt.vlines(onset_times[0][0], -100000, 100000, colors='r', linestyles='--')\n",
    "plt.show()"
   ]
  },
  {
   "cell_type": "markdown",
   "metadata": {
    "deletable": true,
    "editable": true
   },
   "source": [
    "# Training_set"
   ]
  },
  {
   "cell_type": "code",
   "execution_count": 12,
   "metadata": {
    "collapsed": false,
    "deletable": true,
    "editable": true
   },
   "outputs": [],
   "source": [
    "def train_set_generator(patient_number, dataset_number):\n",
    "    temp = dataload(patient_number,dataset_number)\n",
    "    if len(temp)==0:\n",
    "        return\n",
    "    result = downgrade_and_feature(temp)\n",
    "    onset_time_temp = onset_times[patient_number-1][dataset_number-1]        \n",
    "\n",
    "    if len(onset_time_temp) > 1:\n",
    "        print(\"More than one onset time\")\n",
    "        return\n",
    "    \n",
    "    onset_time_temp = onset_time_temp[0]\n",
    "    \n",
    "    if onset_time_temp*sampling_rate/striding < train_length:\n",
    "        print(\"Wrong input\")\n",
    "        return\n",
    "    \n",
    "    input_data = np.zeros((2,train_length))\n",
    "    output_data = np.zeros(train_length)\n",
    "    \n",
    "    for i in range(train_length):\n",
    "        if i==0:\n",
    "            output_data[train_length-1] = 1\n",
    "        else :\n",
    "            output_data[train_length-1-i] = discount_rate*output_data[train_length-i] \n",
    "\n",
    "    onset_on_array = int(onset_time_temp*sampling_rate/striding)\n",
    "    \n",
    "    for i in range(train_length):\n",
    "        input_data[0][i] = result['averages'][onset_on_array-train_length+1+i]\n",
    "        input_data[1][i] = result['variations'][onset_on_array-train_length+1+i]\n",
    "\n",
    "    return {'input' : input_data, 'output' : output_data}"
   ]
  },
  {
   "cell_type": "code",
   "execution_count": 13,
   "metadata": {
    "collapsed": false,
    "deletable": true,
    "editable": true
   },
   "outputs": [],
   "source": [
    "def train_set_generator2(patient_number, iswakeup=0):\n",
    "    temp = normal_data_load(patient_number,iswakeup)\n",
    "    if len(temp)==0:\n",
    "        return\n",
    "    result = downgrade_and_feature(temp)\n",
    "    original_length = len(result['averages'])\n",
    "    input_data = np.zeros((2,train_length))\n",
    "    output_data = np.zeros(train_length)\n",
    "    for i in range(train_length):\n",
    "        index = i%original_length\n",
    "        input_data[0][i] = result['averages'][index]\n",
    "        input_data[1][i] = result['variations'][index]\n",
    "    return {'input' : input_data, 'output' : output_data}"
   ]
  },
  {
   "cell_type": "code",
   "execution_count": null,
   "metadata": {
    "collapsed": false,
    "deletable": true,
    "editable": true
   },
   "outputs": [
    {
     "name": "stdout",
     "output_type": "stream",
     "text": [
      "data1_1.csv is loaded\n"
     ]
    },
    {
     "data": {
      "image/png": "[encoded data removed]",
      "text/plain": [
       "<matplotlib.figure.Figure at 0x7fa18fa531d0>"
      ]
     },
     "metadata": {},
     "output_type": "display_data"
    },
    {
     "data": {
      "image/png": "[encoded data removed]",
      "text/plain": [
       "<matplotlib.figure.Figure at 0x7fa1c02d0b38>"
      ]
     },
     "metadata": {},
     "output_type": "display_data"
    },
    {
     "data": {
      "image/png": "[encoded data removed]",
      "text/plain": [
       "<matplotlib.figure.Figure at 0x7fa18f70eeb8>"
      ]
     },
     "metadata": {},
     "output_type": "display_data"
    },
    {
     "name": "stdout",
     "output_type": "stream",
     "text": [
      "(2, 1000)\n",
      "(1000,)\n"
     ]
    }
   ],
   "source": [
    "result = train_set_generator(1,1)\n",
    "plt.plot(result['input'][0])\n",
    "plt.show()\n",
    "plt.plot(result['input'][1])\n",
    "plt.show()\n",
    "plt.plot(result['output'])\n",
    "plt.show()\n",
    "print(result['input'].shape)\n",
    "print(result['output'].shape)"
   ]
  },
  {
   "cell_type": "code",
   "execution_count": null,
   "metadata": {
    "collapsed": false,
    "deletable": true,
    "editable": true
   },
   "outputs": [
    {
     "name": "stdout",
     "output_type": "stream",
     "text": [
      "Patient 1 and dataset 1\n",
      "data1_1.csv is loaded\n",
      "No such File\n",
      "Patient 1 and dataset 2\n",
      "data1_2.csv is loaded\n",
      "data1w.csv is loaded\n",
      "Patient 1 and dataset 3\n",
      "data1_3.csv is loaded\n",
      "No such File\n",
      "Patient 1 and dataset 4\n",
      "data1_4.csv is loaded\n",
      "data1w.csv is loaded\n",
      "Patient 1 and dataset 5\n",
      "data1_5.csv is loaded\n",
      "No such File\n",
      "Patient 1 and dataset 6\n",
      "data1_6.csv is loaded\n",
      "data1w.csv is loaded\n",
      "Patient 1 and dataset 7\n",
      "data1_7.csv is loaded\n",
      "No such File\n",
      "Patient 2 and dataset 1\n",
      "data2_1.csv is loaded\n",
      "No such File\n",
      "Patient 2 and dataset 2\n",
      "data2_2.csv is loaded\n",
      "data2w.csv is loaded\n",
      "Patient 2 and dataset 3\n",
      "data2_3.csv is loaded\n",
      "No such File\n",
      "Patient 2 and dataset 4\n",
      "data2_4.csv is loaded\n",
      "data2w.csv is loaded\n",
      "Patient 2 and dataset 5\n",
      "data2_5.csv is loaded\n",
      "No such File\n",
      "Patient 2 and dataset 6\n",
      "data2_6.csv is loaded\n",
      "data2w.csv is loaded\n",
      "Patient 2 and dataset 7\n",
      "data2_7.csv is loaded\n",
      "No such File\n",
      "Patient 3 and dataset 1\n",
      "data3_1.csv is loaded\n",
      "No such File\n",
      "Patient 3 and dataset 5\n",
      "data3_5.csv is loaded\n",
      "No such File\n",
      "Patient 3 and dataset 6\n",
      "data3_6.csv is loaded\n",
      "data3w.csv is loaded\n",
      "Patient 4 and dataset 1\n",
      "data4_1.csv is loaded\n",
      "No such File\n",
      "Patient 4 and dataset 2\n",
      "data4_2.csv is loaded\n",
      "data4w.csv is loaded\n",
      "Patient 4 and dataset 3\n",
      "data4_3.csv is loaded\n",
      "No such File\n",
      "Patient 5 and dataset 2\n",
      "data5_2.csv is loaded\n",
      "data5w.csv is loaded\n",
      "Patient 5 and dataset 3\n",
      "data5_3.csv is loaded\n",
      "No such File\n",
      "Patient 5 and dataset 4\n",
      "data5_4.csv is loaded\n",
      "data5w.csv is loaded\n",
      "Patient 6 and dataset 1\n",
      "data6_1.csv is loaded\n",
      "No such File\n",
      "Patient 7 and dataset 1\n",
      "data7_1.csv is loaded\n",
      "No such File\n",
      "Patient 7 and dataset 2\n",
      "data7_2.csv is loaded\n",
      "data7w.csv is loaded\n",
      "Patient 7 and dataset 3\n",
      "data7_3.csv is loaded\n",
      "No such File\n",
      "Patient 7 and dataset 4\n",
      "data7_4.csv is loaded\n",
      "data7w.csv is loaded\n",
      "Patient 7 and dataset 5\n",
      "data7_5.csv is loaded\n",
      "No such File\n",
      "Patient 7 and dataset 6\n",
      "data7_6.csv is loaded\n",
      "data7w.csv is loaded\n",
      "Patient 7 and dataset 7\n",
      "data7_7.csv is loaded\n",
      "No such File\n",
      "Patient 8 and dataset 1\n",
      "data8_1.csv is loaded\n",
      "No such File\n",
      "Patient 8 and dataset 2\n",
      "data8_2.csv is loaded\n",
      "data8w.csv is loaded\n",
      "Patient 8 and dataset 3\n",
      "data8_3.csv is loaded\n",
      "No such File\n",
      "Patient 8 and dataset 4\n",
      "data8_4.csv is loaded\n",
      "data8w.csv is loaded\n",
      "Patient 8 and dataset 5\n",
      "data8_5.csv is loaded\n",
      "No such File\n",
      "Patient 8 and dataset 6\n",
      "data8_6.csv is loaded\n",
      "data8w.csv is loaded\n",
      "Patient 8 and dataset 7\n",
      "data8_7.csv is loaded\n",
      "No such File\n",
      "Patient 8 and dataset 9\n",
      "data8_9.csv is loaded\n",
      "No such File\n",
      "Patient 8 and dataset 10\n",
      "data8_10.csv is loaded\n",
      "data8w.csv is loaded\n",
      "Patient 8 and dataset 11\n",
      "data8_11.csv is loaded\n",
      "No such File\n",
      "Patient 8 and dataset 12\n",
      "data8_12.csv is loaded\n",
      "data8w.csv is loaded\n",
      "Patient 8 and dataset 13\n",
      "data8_13.csv is loaded\n"
     ]
    }
   ],
   "source": [
    "train_input_data = []\n",
    "train_output_data = []\n",
    "\n",
    "for i in range(len(onset_times)):\n",
    "    for j in range(len(onset_times[i])):\n",
    "        if len(onset_times[i][j])>1:\n",
    "            continue;\n",
    "        onset_time_temp = onset_times[i][j][0]\n",
    "        if onset_time_temp*sampling_rate/striding < train_length:\n",
    "            continue;\n",
    "        print(\"Patient {} and dataset {}\".format(i+1,j+1))\n",
    "        result = train_set_generator(i+1, j+1)\n",
    "        input_data = result['input']\n",
    "        output_data = result['output']\n",
    "        \n",
    "        prob = random.random()\n",
    "        \n",
    "        if prob<0.8:\n",
    "            train_input_data.append(input_data)\n",
    "            train_output_data.append(output_data)\n",
    "\n",
    "        normal_number = i%10+1\n",
    "        iswakeup = j%2\n",
    "\n",
    "        result = train_set_generator2(normal_number, iswakeup)\n",
    "        if result == None:\n",
    "            continue;\n",
    "        input_data = result['input']\n",
    "        output_data = result['output']\n",
    "        if prob<0.8:\n",
    "            train_input_data.append(input_data)\n",
    "            train_output_data.append(output_data)\n",
    "            \n",
    "train_input_data = np.array(train_input_data)\n",
    "train_output_data = np.array(train_output_data)"
   ]
  },
  {
   "cell_type": "code",
   "execution_count": null,
   "metadata": {
    "collapsed": false,
    "deletable": true,
    "editable": true
   },
   "outputs": [],
   "source": [
    "print(train_input_data.shape)\n",
    "print(train_output_data.shape)\n",
    "print(len(train_input_data))\n",
    "temp1 = np.transpose(train_input_data,[1,2,0])\n",
    "print(temp1.shape)\n",
    "temp2 = np.transpose(train_output_data,[1,0])\n",
    "print(temp2.shape)"
   ]
  },
  {
   "cell_type": "code",
   "execution_count": null,
   "metadata": {
    "collapsed": true,
    "deletable": true,
    "editable": true
   },
   "outputs": [],
   "source": [
    "output_file_name1 = 'rnn_v6_input_average.csv'\n",
    "output_file_name2 = 'rnn_v6_input_variation.csv'\n",
    "output_file_name3 = 'rnn_v6_output.csv'\n",
    "\n",
    "csv_file = open(output_file_name1, \"w\")\n",
    "cw = csv.writer(csv_file , delimiter=',')\n",
    "size = train_length\n",
    "for i in range(size):\n",
    "    row =   temp1[0][i]\n",
    "    cw.writerow(row)\n",
    "\n",
    "csv_file = open(output_file_name2, \"w\")\n",
    "cw = csv.writer(csv_file , delimiter=',')\n",
    "for i in range(size):\n",
    "    row =   temp1[1][i]\n",
    "    cw.writerow(row)\n",
    "    \n",
    "csv_file = open(output_file_name3, \"w\")\n",
    "cw = csv.writer(csv_file , delimiter=',')\n",
    "for i in range(size):\n",
    "    row =   temp2[i]\n",
    "    cw.writerow(row)"
   ]
  }
 ],
 "metadata": {
  "anaconda-cloud": {},
  "kernelspec": {
   "display_name": "Python 3",
   "language": "python",
   "name": "python3"
  },
  "language_info": {
   "codemirror_mode": {
    "name": "ipython",
    "version": 3
   },
   "file_extension": ".py",
   "mimetype": "text/x-python",
   "name": "python",
   "nbconvert_exporter": "python",
   "pygments_lexer": "ipython3",
   "version": "3.5.2"
  }
 },
 "nbformat": 4,
 "nbformat_minor": 2
}
