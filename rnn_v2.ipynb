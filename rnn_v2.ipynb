{
 "cells": [
  {
   "cell_type": "code",
   "execution_count": 1,
   "metadata": {
    "collapsed": false,
    "deletable": true,
    "editable": true
   },
   "outputs": [],
   "source": [
    "import csv\n",
    "import tensorflow as tf\n",
    "import matplotlib.pyplot as plt\n",
    "import numpy as np\n",
    "from tensorflow.python.ops import rnn, rnn_cell\n",
    "import random"
   ]
  },
  {
   "cell_type": "code",
   "execution_count": 2,
   "metadata": {
    "collapsed": false,
    "deletable": true,
    "editable": true
   },
   "outputs": [],
   "source": [
    "def seizure_time_parser(onset_times,patient_number,data_set_number):\n",
    "    temp = str(onset_times[patient_number-1][data_set_number])\n",
    "    curr_onset_time = []\n",
    "    while temp.find('/')!=-1:\n",
    "        curr_onset_time.append(int(temp[0:temp.find('/')]))\n",
    "        temp=temp[temp.find('/')+1:]\n",
    "    curr_onset_time.append(int(float(temp)))\n",
    "    curr_onset_time=np.array(curr_onset_time)\n",
    "    return curr_onset_time"
   ]
  },
  {
   "cell_type": "code",
   "execution_count": 3,
   "metadata": {
    "collapsed": false,
    "deletable": true,
    "editable": true
   },
   "outputs": [],
   "source": [
    "seizure_file = open('seizure_times.csv','r',newline='')\n",
    "reader = csv.reader(seizure_file,delimiter=',')\n",
    "onset_times=[]\n",
    "for row in reader:\n",
    "    onset_times.append(row)\n",
    "onset_times_ordered = []\n",
    "total_patient = len(onset_times)\n",
    "event_number = np.zeros(total_patient,dtype=np.int32)\n",
    "#number of events of (i+1) patient = event_number[i]\n",
    "for i in range(total_patient):\n",
    "    event_number[i] = len(onset_times[i])\n",
    "\n",
    "for p in range(1,total_patient+1):\n",
    "    temp = []\n",
    "    for d in range(1,event_number[p-1]):\n",
    "        temp.append(seizure_time_parser(onset_times,p,d))\n",
    "    onset_times_ordered.append(temp)"
   ]
  },
  {
   "cell_type": "markdown",
   "metadata": {
    "deletable": true,
    "editable": true
   },
   "source": [
    "# Input data processing"
   ]
  },
  {
   "cell_type": "code",
   "execution_count": 4,
   "metadata": {
    "collapsed": true,
    "deletable": true,
    "editable": true
   },
   "outputs": [],
   "source": [
    "file_path = '/home/maestoj/medical_analysis/ar/'"
   ]
  },
  {
   "cell_type": "code",
   "execution_count": 5,
   "metadata": {
    "collapsed": true,
    "deletable": true,
    "editable": true
   },
   "outputs": [],
   "source": [
    "def file_name_composer(patient_number,data_set_number):\n",
    "    file_name = \"data_patient_{}_AR{}.csv\".format(patient_number,data_set_number)\n",
    "    return file_path+file_name"
   ]
  },
  {
   "cell_type": "code",
   "execution_count": 6,
   "metadata": {
    "collapsed": true,
    "deletable": true,
    "editable": true
   },
   "outputs": [],
   "source": [
    "patient_number = 9\n",
    "sampling_rate = 200\n",
    "sec_per_ar = 2\n",
    "ar_per_sec = 1/sec_per_ar\n",
    "predict_max = 120\n",
    "time_chunks = 50\n",
    "drop_out = 0.7\n",
    "rnn_size = 50\n",
    "validation_number = 5\n",
    "first_useless = 90\n",
    "hidden_layer1 = 10\n",
    "hidden_layer2 = 10\n",
    "hidden_layer3 = 10\n",
    "output_batch_size = 2\n",
    "batch = 50"
   ]
  },
  {
   "cell_type": "code",
   "execution_count": null,
   "metadata": {
    "collapsed": true
   },
   "outputs": [],
   "source": [
    "def normalize(array):\n",
    "    temp = np.zeros(len(array))\n",
    "    min = np.min(array)\n",
    "    max = np.max(array)\n",
    "    for i in range(len(array)):\n",
    "        temp[i]=(array[i]-min)/(max-min)\n",
    "    return temp"
   ]
  },
  {
   "cell_type": "code",
   "execution_count": 7,
   "metadata": {
    "collapsed": false,
    "deletable": true,
    "editable": true
   },
   "outputs": [
    {
     "name": "stdout",
     "output_type": "stream",
     "text": [
      "(2253, 30, 50)\n",
      "(2253, 2)\n"
     ]
    }
   ],
   "source": [
    "input_data = []\n",
    "output_data = []\n",
    "flag = 0;\n",
    "for d in range(1,event_number[patient_number-1]):\n",
    "    if d==validation_number:\n",
    "        continue\n",
    "    seizure_file = open(file_name_composer(patient_number, d)\n",
    "                    ,'r',newline='')\n",
    "    reader = csv.reader(seizure_file,delimiter=',')\n",
    "    temp=[]\n",
    "    for row in reader:\n",
    "        temp.append(row)\n",
    "    temp = np.array(temp)\n",
    "    nchannels = temp.shape[0]\n",
    "    ntimeseg = temp.shape[1]\n",
    "    onset = onset_times_ordered[patient_number-1][d-1]\n",
    "    onset = np.array(onset)\n",
    "    for i in range(ntimeseg):\n",
    "        initial_point = i\n",
    "        if initial_point < first_useless:\n",
    "            continue;\n",
    "        final_point = initial_point + time_chunks\n",
    "        if final_point > ntimeseg:\n",
    "            continue;\n",
    "        if final_point > np.max(onset):\n",
    "            continue;\n",
    "#        if initial_point > onset[len(onset)-1]:\n",
    "#            continue;\n",
    "        output_temp = np.zeros(output_batch_size)\n",
    "        index = output_batch_size - 1\n",
    "        \n",
    "        for j in range(len(onset)):\n",
    "            onset_temp = onset[j]*ar_per_sec\n",
    "            if initial_point<=onset_temp and final_point>onset_temp:\n",
    "                index = 0\n",
    "                break;\n",
    "            value = onset_temp-final_point\n",
    "            if value < 0 :\n",
    "                break;\n",
    "            temp_index = int(value/batch)+1;\n",
    "            if temp_index < index:\n",
    "                index = temp_index\n",
    "\n",
    "                \n",
    "        output_temp[index] = 1\n",
    "        if index == output_batch_size - 1:\n",
    "            if random.random()<drop_out:\n",
    "                continue;\n",
    "        input_temp=[]\n",
    "        for k in range(nchannels):\n",
    "            input_temp.append(temp[k][initial_point:final_point])\n",
    "        input_temp = np.array(input_temp)\n",
    "        if flag == 0 :\n",
    "            flag = input_temp.shape[1]\n",
    "        if flag == input_temp.shape[1]:\n",
    "            input_temp = normalize(input_temp)\n",
    "            input_data.append(input_temp)\n",
    "            output_data.append(output_temp)\n",
    "input_data = np.array(input_data)\n",
    "output_data = np.array(output_data)\n",
    "print(input_data.shape)\n",
    "print(output_data.shape)\n",
    "#plt.plot(np.argmax(output_data,1))\n",
    "#plt.show()"
   ]
  },
  {
   "cell_type": "code",
   "execution_count": 8,
   "metadata": {
    "collapsed": false,
    "deletable": true,
    "editable": true
   },
   "outputs": [
    {
     "name": "stdout",
     "output_type": "stream",
     "text": [
      "(610, 30, 50)\n",
      "(610, 2)\n"
     ]
    },
    {
     "data": {
      "image/png": "[encoded data removed]",
      "text/plain": [
       "<matplotlib.figure.Figure at 0x7fd757f432e8>"
      ]
     },
     "metadata": {},
     "output_type": "display_data"
    }
   ],
   "source": [
    "seizure_file = open(file_name_composer(patient_number, validation_number)\n",
    "                    ,'r',newline='')\n",
    "reader = csv.reader(seizure_file,delimiter=',')\n",
    "temp=[]\n",
    "for row in reader:\n",
    "    temp.append(row)\n",
    "temp = np.array(temp)\n",
    "nchannels = temp.shape[0]\n",
    "ntimeseg = temp.shape[1]\n",
    "onset = onset_times_ordered[patient_number-1][validation_number-1]\n",
    "onset = np.array(onset)\n",
    "validation_set = []\n",
    "val_output = []\n",
    "for i in range(ntimeseg-time_chunks):\n",
    "    temp2 = [];\n",
    "    initial_point = i;\n",
    "    final_point = i+time_chunks\n",
    "    for j in range(nchannels):\n",
    "        temp2.append(temp[j][initial_point:final_point])\n",
    "    \n",
    "    output_temp = np.zeros(output_batch_size)\n",
    "    index = output_batch_size - 1\n",
    "        \n",
    "    for j in range(len(onset)):\n",
    "        onset_temp = onset[j]*ar_per_sec\n",
    "        if initial_point<=onset_temp and final_point>onset_temp:\n",
    "            index = 0\n",
    "            break;\n",
    "        value = onset_temp-final_point\n",
    "        if value < 0 :\n",
    "            break;\n",
    "        temp_index = int(value/batch)+1;\n",
    "        if temp_index < index:\n",
    "            index = temp_index\n",
    "\n",
    "    output_temp[index] = 1\n",
    "    val_output.append(output_temp)\n",
    "    validation_set.append(temp2)\n",
    "    \n",
    "validation_set = np.array(validation_set)\n",
    "val_output = np.array(val_output)\n",
    "\n",
    "print(validation_set.shape)\n",
    "print(val_output.shape)\n",
    "\n",
    "time = np.zeros(len(validation_set))\n",
    "for j in range(len(validation_set)):\n",
    "    time[j] = sec_per_ar*(j+time_chunks);\n",
    "plt.plot(time,np.argmax(val_output,1))\n",
    "plt.show()"
   ]
  },
  {
   "cell_type": "code",
   "execution_count": 9,
   "metadata": {
    "collapsed": true,
    "deletable": true,
    "editable": true
   },
   "outputs": [],
   "source": [
    "x = tf.placeholder('float', [None, nchannels,time_chunks])\n",
    "y = tf.placeholder('float')"
   ]
  },
  {
   "cell_type": "code",
   "execution_count": 10,
   "metadata": {
    "collapsed": true,
    "deletable": true,
    "editable": true
   },
   "outputs": [],
   "source": [
    "def recurrent_neural_network(x):\n",
    "    layer1 = {'weights':tf.Variable(0.01*tf.random_normal([rnn_size, hidden_layer1])),\n",
    "            'biases':tf.Variable(0.01*tf.random_normal([hidden_layer1]))}\n",
    "    layer2 = {'weights':tf.Variable(0.01*tf.random_normal([hidden_layer1, hidden_layer2])),\n",
    "            'biases':tf.Variable(0.01*tf.random_normal([hidden_layer2]))}\n",
    "    layer3 = {'weights':tf.Variable(0.01*tf.random_normal([hidden_layer2, hidden_layer3])),\n",
    "            'biases':tf.Variable(0.01*tf.random_normal([hidden_layer3]))}\n",
    "    layer4 = {'weights':tf.Variable(0.01*tf.random_normal([hidden_layer3, output_batch_size])),\n",
    "            'biases':tf.Variable(0.01*tf.random_normal([output_batch_size]))}\n",
    "    \n",
    "    x = tf.transpose(x, [2,0,1])#crucial\n",
    "    #x timechunks  none nchannels\n",
    "    x = tf.reshape(x, [-1,nchannels])\n",
    "    #x timechunks*none channels\n",
    "    x = tf.split(0, time_chunks, x)\n",
    "    #x timechunks  none*channels\n",
    "    lstm_cell = rnn_cell.BasicLSTMCell(rnn_size)\n",
    "    #multi_cell = rnn_cell.MultiRNNCell([lstm_cell]*3)\n",
    "    outputs, states = rnn.rnn(lstm_cell, x, dtype=tf.float32)\n",
    "    #outputs time_chunks   none*rnn_size\n",
    "    temp1 = tf.nn.relu(tf.matmul(outputs[-1],layer1['weights']) + layer1['biases'])\n",
    "    #temp1 = tf.nn.relu(tf.matmul(outputs[-1],layer1['weights']) + layer1['biases'])\n",
    "    temp2 = tf.nn.relu(tf.matmul(temp1,layer2['weights']) + layer2['biases'])\n",
    "    temp3 = tf.nn.relu(tf.matmul(temp2,layer3['weights']) + layer3['biases'])\n",
    "    output = tf.nn.softmax(tf.matmul(temp3,layer4['weights']) + layer4['biases'])\n",
    "\n",
    "    return output"
   ]
  },
  {
   "cell_type": "code",
   "execution_count": null,
   "metadata": {
    "collapsed": false,
    "deletable": true,
    "editable": true
   },
   "outputs": [],
   "source": [
    "prediction = recurrent_neural_network(x)\n",
    "cost = tf.reduce_mean(tf.nn.softmax_cross_entropy_with_logits(prediction,y))\n",
    "optimizer = tf.train.AdamOptimizer(1e-4).minimize(cost)\n",
    "\n",
    "prediction_state = tf.argmax(prediction,1)\n",
    "output_state = tf.argmax(y,1)"
   ]
  },
  {
   "cell_type": "code",
   "execution_count": null,
   "metadata": {
    "collapsed": false,
    "deletable": true,
    "editable": true
   },
   "outputs": [
    {
     "data": {
      "image/png": "[encoded data removed]",
      "text/plain": [
       "<matplotlib.figure.Figure at 0x7fd74b58ecc0>"
      ]
     },
     "metadata": {},
     "output_type": "display_data"
    },
    {
     "name": "stdout",
     "output_type": "stream",
     "text": [
      "loss : 0.6916821002960205\n"
     ]
    },
    {
     "data": {
      "image/png": "[encoded data removed]",
      "text/plain": [
       "<matplotlib.figure.Figure at 0x7fd74b586198>"
      ]
     },
     "metadata": {},
     "output_type": "display_data"
    },
    {
     "name": "stdout",
     "output_type": "stream",
     "text": [
      "loss : 0.689169704914093\n",
      "loss : 0.685796320438385\n",
      "loss : 0.6752967834472656\n",
      "loss : 0.6435644030570984\n",
      "loss : 0.6065099239349365\n"
     ]
    },
    {
     "data": {
      "image/png": "[encoded data removed]",
      "text/plain": [
       "<matplotlib.figure.Figure at 0x7fd757f0b630>"
      ]
     },
     "metadata": {},
     "output_type": "display_data"
    },
    {
     "name": "stdout",
     "output_type": "stream",
     "text": [
      "loss : 0.5917154550552368\n",
      "loss : 0.587546169757843\n",
      "loss : 0.5860859155654907\n",
      "loss : 0.5854396224021912\n",
      "loss : 0.585102379322052\n"
     ]
    },
    {
     "data": {
      "image/png": "[encoded data removed]",
      "text/plain": [
       "<matplotlib.figure.Figure at 0x7fd74b60be80>"
      ]
     },
     "metadata": {},
     "output_type": "display_data"
    },
    {
     "name": "stdout",
     "output_type": "stream",
     "text": [
      "loss : 0.5849063992500305\n",
      "loss : 0.5847823023796082\n"
     ]
    }
   ],
   "source": [
    "plt.plot(np.argmax(output_data,1))\n",
    "plt.title('train_output_data')\n",
    "plt.show()\n",
    "\n",
    "sess = tf.Session()\n",
    "sess.run(tf.global_variables_initializer())\n",
    "for i in range(5001):\n",
    "    opt, c = sess.run([optimizer, cost], feed_dict={x: input_data, y: output_data})\n",
    "    if i%100==0:\n",
    "        print(\"loss : {}\".format(c))\n",
    "    if i%500==0:\n",
    "        plt.plot(sess.run(prediction_state, feed_dict={x : input_data}))\n",
    "        plt.title('{}th run predition'.format(i))\n",
    "        plt.show()\n",
    "           \n",
    "plt.plot(time, sess.run(output_state, feed_dict={y : val_output}))\n",
    "plt.title('validation_output')\n",
    "plt.show()\n",
    "plt.plot(time, sess.run(prediction_state, feed_dict={x : validation_set}))\n",
    "plt.title(\"{}the patient {}th data\".format(patient_number, validation_number))\n",
    "plt.show()\n"
   ]
  },
  {
   "cell_type": "code",
   "execution_count": null,
   "metadata": {
    "collapsed": false,
    "deletable": true,
    "editable": true
   },
   "outputs": [],
   "source": [
    "def validation_set_generator(vali_num):\n",
    "    seizure_file = open(file_name_composer(patient_number, vali_num)\n",
    "                        ,'r',newline='')\n",
    "    reader = csv.reader(seizure_file,delimiter=',')\n",
    "    temp=[]\n",
    "    for row in reader:\n",
    "        temp.append(row)\n",
    "    temp = np.array(temp)\n",
    "    nchannels = temp.shape[0]\n",
    "    ntimeseg = temp.shape[1]\n",
    "    onset = onset_times_ordered[patient_number-1][vali_num-1]\n",
    "    onset = np.array(onset)\n",
    "    validation_set = []\n",
    "    val_output = []\n",
    "    for i in range(ntimeseg-time_chunks):\n",
    "        temp2 = [];\n",
    "        initial_point = i;\n",
    "        final_point = i+time_chunks\n",
    "        for j in range(nchannels):\n",
    "            temp2.append(temp[j][initial_point:final_point])\n",
    "\n",
    "        output_temp = np.zeros(output_batch_size)\n",
    "        index = output_batch_size - 1\n",
    "\n",
    "        for j in range(len(onset)):\n",
    "            onset_temp = onset[j]*ar_per_sec\n",
    "            if initial_point<=onset_temp and final_point>onset_temp:\n",
    "                index = 0\n",
    "                break;\n",
    "            value = onset_temp-final_point\n",
    "            if value < 0 :\n",
    "                break;\n",
    "            temp_index = int(value/batch)+1;\n",
    "            if temp_index < index:\n",
    "                index = temp_index\n",
    "        output_temp[index] = 1\n",
    "        val_output.append(output_temp)\n",
    "        validation_set.append(temp2)\n",
    "    validation_set = np.array(validation_set)\n",
    "    val_output = np.array(val_output)\n",
    "    return {'input': validation_set,'output': val_output}\n",
    "for i in range(1,event_number[patient_number-1]):\n",
    "    result = validation_set_generator(i)\n",
    "    validation_set = result['input']\n",
    "    val_output = result['output']\n",
    "    time = np.zeros(len(validation_set))\n",
    "    for j in range(len(validation_set)):\n",
    "        time[j] = sec_per_ar*(j+time_chunks);\n",
    "    plt.plot(time,np.argmax(val_output,1))\n",
    "    plt.title('{}th patient {}th data real'.format(patient_number, i))\n",
    "    plt.show()\n",
    "    plt.plot(time, sess.run(prediction_state, feed_dict={x : validation_set}))\n",
    "    plt.title('{}th patient {}th data output'.format(patient_number, i))\n",
    "    plt.show()\n"
   ]
  },
  {
   "cell_type": "code",
   "execution_count": null,
   "metadata": {
    "collapsed": false,
    "deletable": true,
    "editable": true
   },
   "outputs": [],
   "source": [
    "\"\"\"\n",
    "result = validation_set_generator(7)\n",
    "input_data = result['input']\n",
    "output_data = result['output']\n",
    "plt.plot(np.argmax(output_data,1))\n",
    "plt.title('output_data')\n",
    "plt.show()\n",
    "for i in range(30):\n",
    "    opt, c = sess.run([optimizer, cost], feed_dict={x: input_data, y: output_data})\n",
    "    if i%10==0:\n",
    "        print(\"loss : {}\".format(c))\n",
    "    if i%10==0:\n",
    "        plt.plot(sess.run(prediction_state, feed_dict={x : input_data}))\n",
    "        plt.title('{}th run input_data'.format(i))\n",
    "        plt.show()\n",
    "\"\"\""
   ]
  }
 ],
 "metadata": {
  "kernelspec": {
   "display_name": "Python 3",
   "language": "python",
   "name": "python3"
  },
  "language_info": {
   "codemirror_mode": {
    "name": "ipython",
    "version": 3
   },
   "file_extension": ".py",
   "mimetype": "text/x-python",
   "name": "python",
   "nbconvert_exporter": "python",
   "pygments_lexer": "ipython3",
   "version": "3.5.2"
  }
 },
 "nbformat": 4,
 "nbformat_minor": 2
}
