{
 "cells": [
  {
   "cell_type": "code",
   "execution_count": 3,
   "metadata": {
    "collapsed": false,
    "deletable": true,
    "editable": true
   },
   "outputs": [],
   "source": [
    "import csv\n",
    "import matplotlib.pyplot as plt\n",
    "import numpy as np\n",
    "import os"
   ]
  },
  {
   "cell_type": "markdown",
   "metadata": {
    "deletable": true,
    "editable": true
   },
   "source": [
    "# Hyperparameters"
   ]
  },
  {
   "cell_type": "code",
   "execution_count": 4,
   "metadata": {
    "collapsed": true,
    "deletable": true,
    "editable": true
   },
   "outputs": [],
   "source": [
    "train_length = 1000\n",
    "test_length = 1500\n",
    "\n",
    "discount_rate = 0.99\n",
    "rnn_size = 10\n",
    "\n",
    "sampling_rate = 200\n",
    "striding = 100"
   ]
  },
  {
   "cell_type": "code",
   "execution_count": 5,
   "metadata": {
    "collapsed": true,
    "deletable": true,
    "editable": true
   },
   "outputs": [],
   "source": [
    "def downgrade_and_feature(array):\n",
    "    nchannels = array.shape[0]\n",
    "    data_length = array.shape[1]\n",
    "    \n",
    "    temp = np.zeros(data_length)\n",
    "    \n",
    "    for j in range(data_length):\n",
    "        for i in range(nchannels):\n",
    "            temp[j] += array[i][j]\n",
    "        temp[j]/=nchannels\n",
    "    \n",
    "    reduced_length = int(data_length/striding)\n",
    "\n",
    "    averages = np.zeros(reduced_length, dtype = np.float32)   \n",
    "    variations = np.zeros(reduced_length, dtype = np.float32)\n",
    "    \n",
    "    for i in range(reduced_length):\n",
    "        averages[i] = np.average(temp[striding*i:striding*(i+1)])\n",
    "        variations[i] = np.var(temp[striding*i:striding*(i+1)])\n",
    "        \n",
    "    return {'averages' : averages,'variations' : variations}"
   ]
  },
  {
   "cell_type": "code",
   "execution_count": 6,
   "metadata": {
    "collapsed": false,
    "deletable": true,
    "editable": true
   },
   "outputs": [],
   "source": [
    "def dataload(patient_number, iswakeup=0):\n",
    "    try :\n",
    "        input_folder_path = '/home/maestoj/medical_analysis/eeg_normal'\n",
    "        input_data_name = 'data{}s.csv'.format(patient_number)\n",
    "        if iswakeup == 1:\n",
    "            input_data_name = 'data{}w.csv'.format(patient_number)\n",
    "        input_data_path = os.path.join(input_folder_path,input_data_name)\n",
    "        input_file = open(input_data_path,'r',newline='')\n",
    "        reader = csv.reader(input_file, delimiter=',')\n",
    "        print(\"{} is loaded\".format(input_data_name))\n",
    "        temp = []\n",
    "        for row in reader:\n",
    "            temp.append(row)\n",
    "        temp = np.array(temp, dtype=np.float32)\n",
    "        temp = np.transpose(temp)\n",
    "        return temp\n",
    "    except FileNotFoundError:\n",
    "        print(\"No such File\")\n",
    "        temp = []\n",
    "        temp = np.array(temp)\n",
    "        return temp"
   ]
  },
  {
   "cell_type": "code",
   "execution_count": 7,
   "metadata": {
    "collapsed": true,
    "deletable": true,
    "editable": true
   },
   "outputs": [],
   "source": [
    "def time_axis_maker(array, sec_per_cell,init = 0):\n",
    "    final = init + sec_per_cell*(len(array)-1)\n",
    "    return np.linspace(init,final,len(array))"
   ]
  },
  {
   "cell_type": "markdown",
   "metadata": {
    "deletable": true,
    "editable": true
   },
   "source": [
    "# Onset-time data"
   ]
  },
  {
   "cell_type": "code",
   "execution_count": 8,
   "metadata": {
    "collapsed": true,
    "deletable": true,
    "editable": true
   },
   "outputs": [],
   "source": [
    "def seizure_time_parser(onset_times,patient_number,data_set_number):\n",
    "    temp = str(onset_times[patient_number-1][data_set_number])\n",
    "    curr_onset_time = []\n",
    "    while temp.find('/')!=-1:\n",
    "        curr_onset_time.append(int(temp[0:temp.find('/')]))\n",
    "        temp=temp[temp.find('/')+1:]\n",
    "    curr_onset_time.append(int(float(temp)))\n",
    "    curr_onset_time=np.array(curr_onset_time)\n",
    "    return curr_onset_time"
   ]
  },
  {
   "cell_type": "code",
   "execution_count": 9,
   "metadata": {
    "collapsed": false,
    "deletable": true,
    "editable": true
   },
   "outputs": [],
   "source": [
    "seizure_file = open('seizure_times.csv','r',newline='')\n",
    "reader = csv.reader(seizure_file,delimiter=',')\n",
    "onset_times_temp=[]\n",
    "\n",
    "for row in reader:\n",
    "    onset_times_temp.append(row)\n",
    "    \n",
    "onset_times = []\n",
    "total_patient = len(onset_times_temp)\n",
    "event_number = np.zeros(total_patient,dtype=np.int32)\n",
    "#number of events of (i+1) patient = event_number[i]\n",
    "\n",
    "for i in range(total_patient):\n",
    "    event_number[i] = len(onset_times_temp[i])-1\n",
    "\n",
    "for p in range(total_patient):\n",
    "    temp = []\n",
    "    for d in range(event_number[p]):\n",
    "        temp.append(seizure_time_parser(onset_times_temp,p+1,d+1))\n",
    "    onset_times.append(temp)"
   ]
  },
  {
   "cell_type": "code",
   "execution_count": 10,
   "metadata": {
    "collapsed": false,
    "deletable": true,
    "editable": true
   },
   "outputs": [
    {
     "name": "stdout",
     "output_type": "stream",
     "text": [
      "The number of datasets of patients\n",
      "[ 7  7  6  3 10  1  7 13 16  8  8  5  3  6 31  8  2  4]\n",
      "1st patient's seizure time for each data_set\n",
      "[array([820]), array([781]), array([626]), array([713]), array([807]), array([792]), array([780])]\n",
      "9th patient's seizure time for each data_set\n",
      "[array([200]), array([312]), array([624]), array([762]), array([752]), array([772]), array([884]), array([502]), array([ 94, 258]), array([836]), array([650]), array([636]), array([576]), array([656]), array([638]), array([706])]\n"
     ]
    }
   ],
   "source": [
    "print(\"The number of datasets of patients\")\n",
    "print(event_number)\n",
    "print(\"1st patient's seizure time for each data_set\")\n",
    "print(onset_times[0])\n",
    "print(\"9th patient's seizure time for each data_set\")\n",
    "print(onset_times[8])"
   ]
  },
  {
   "cell_type": "code",
   "execution_count": 13,
   "metadata": {
    "collapsed": false,
    "deletable": true,
    "editable": true
   },
   "outputs": [
    {
     "name": "stdout",
     "output_type": "stream",
     "text": [
      "data1s.csv is loaded\n",
      "(22, 54000)\n",
      "(540,)\n",
      "(540,)\n",
      "data2s.csv is loaded\n",
      "(22, 57800)\n",
      "(578,)\n",
      "(578,)\n",
      "No such File\n",
      "(0,)\n",
      "data4s.csv is loaded\n",
      "(26, 31400)\n",
      "(314,)\n",
      "(314,)\n",
      "data5s.csv is loaded\n",
      "(26, 41200)\n",
      "(412,)\n",
      "(412,)\n",
      "data6s.csv is loaded\n",
      "(22, 170400)\n",
      "(1704,)\n",
      "(1704,)\n",
      "data7s.csv is loaded\n",
      "(22, 46800)\n",
      "(468,)\n",
      "(468,)\n",
      "No such File\n",
      "(0,)\n",
      "data9s.csv is loaded\n",
      "(26, 45800)\n",
      "(458,)\n",
      "(458,)\n",
      "data10s.csv is loaded\n",
      "(22, 47000)\n",
      "(470,)\n",
      "(470,)\n",
      "data1w.csv is loaded\n",
      "(22, 28800)\n",
      "(288,)\n",
      "(288,)\n",
      "data2w.csv is loaded\n",
      "(22, 36200)\n",
      "(362,)\n",
      "(362,)\n",
      "data3w.csv is loaded\n",
      "(22, 47800)\n",
      "(478,)\n",
      "(478,)\n",
      "data4w.csv is loaded\n",
      "(26, 27600)\n",
      "(276,)\n",
      "(276,)\n",
      "data5w.csv is loaded\n",
      "(26, 38600)\n",
      "(386,)\n",
      "(386,)\n",
      "data6w.csv is loaded\n",
      "(22, 45400)\n",
      "(454,)\n",
      "(454,)\n",
      "data7w.csv is loaded\n",
      "(22, 41200)\n",
      "(412,)\n",
      "(412,)\n",
      "data8w.csv is loaded\n",
      "(22, 50000)\n",
      "(500,)\n",
      "(500,)\n",
      "data9w.csv is loaded\n",
      "(26, 22800)\n",
      "(228,)\n",
      "(228,)\n",
      "data10w.csv is loaded\n",
      "(22, 40800)\n",
      "(408,)\n",
      "(408,)\n"
     ]
    }
   ],
   "source": [
    "for i in range(1,11):\n",
    "    temp = dataload(i)\n",
    "    try:\n",
    "        print(temp.shape)\n",
    "        result = downgrade_and_feature(temp)\n",
    "        print(result['averages'].shape)\n",
    "        print(result['variations'].shape)\n",
    "    except IndexError:\n",
    "        continue\n",
    "for i in range(1,11):\n",
    "    temp = dataload(i,1)\n",
    "    try:\n",
    "        print(temp.shape)\n",
    "        result = downgrade_and_feature(temp)\n",
    "        print(result['averages'].shape)\n",
    "        print(result['variations'].shape)\n",
    "    except IndexError:\n",
    "        continue"
   ]
  },
  {
   "cell_type": "code",
   "execution_count": 14,
   "metadata": {
    "collapsed": false,
    "deletable": true,
    "editable": true
   },
   "outputs": [
    {
     "data": {
      "image/png": "[encoded data removed]",
      "text/plain": [
       "<matplotlib.figure.Figure at 0x7f224ce47240>"
      ]
     },
     "metadata": {},
     "output_type": "display_data"
    },
    {
     "data": {
      "image/png": "[encoded data removed]",
      "text/plain": [
       "<matplotlib.figure.Figure at 0x7f2250f17f28>"
      ]
     },
     "metadata": {},
     "output_type": "display_data"
    }
   ],
   "source": [
    "plt.plot(time, result['averages'])\n",
    "plt.show()\n",
    "\n",
    "plt.plot(time, result['variations'])\n",
    "plt.show()"
   ]
  }
 ],
 "metadata": {
  "anaconda-cloud": {},
  "kernelspec": {
   "display_name": "Python 3",
   "language": "python",
   "name": "python3"
  },
  "language_info": {
   "codemirror_mode": {
    "name": "ipython",
    "version": 3
   },
   "file_extension": ".py",
   "mimetype": "text/x-python",
   "name": "python",
   "nbconvert_exporter": "python",
   "pygments_lexer": "ipython3",
   "version": "3.5.2"
  }
 },
 "nbformat": 4,
 "nbformat_minor": 2
}
