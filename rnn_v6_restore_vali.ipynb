{
 "cells": [
  {
   "cell_type": "code",
   "execution_count": 1,
   "metadata": {
    "collapsed": false,
    "deletable": true,
    "editable": true
   },
   "outputs": [],
   "source": [
    "import csv\n",
    "import matplotlib.pyplot as plt\n",
    "import numpy as np\n",
    "import tensorflow as tf\n",
    "import os\n",
    "import glob"
   ]
  },
  {
   "cell_type": "markdown",
   "metadata": {
    "deletable": true,
    "editable": true
   },
   "source": [
    "# Hyperparameters"
   ]
  },
  {
   "cell_type": "code",
   "execution_count": 2,
   "metadata": {
    "collapsed": true,
    "deletable": true,
    "editable": true
   },
   "outputs": [],
   "source": [
    "test_length = 2000\n",
    "sampling_rate = 200\n",
    "striding = 100\n",
    "seizure_duration = 400"
   ]
  },
  {
   "cell_type": "code",
   "execution_count": 3,
   "metadata": {
    "collapsed": true,
    "deletable": true,
    "editable": true
   },
   "outputs": [],
   "source": [
    "def downgrade_and_feature(array):\n",
    "    nchannels = array.shape[0]\n",
    "    data_length = array.shape[1]\n",
    "    \n",
    "    temp = np.zeros(data_length)\n",
    "    \n",
    "    for j in range(data_length):\n",
    "        for i in range(nchannels):\n",
    "            temp[j] += array[i][j]\n",
    "        temp[j]/=nchannels\n",
    "    \n",
    "    reduced_length = int(data_length/striding)\n",
    "\n",
    "    averages = np.zeros(reduced_length, dtype = np.float32)   \n",
    "    variations = np.zeros(reduced_length, dtype = np.float32)\n",
    "    \n",
    "    for i in range(reduced_length):\n",
    "        averages[i] = np.average(temp[striding*i:striding*(i+1)])\n",
    "        variations[i] = np.var(temp[striding*i:striding*(i+1)])\n",
    "        \n",
    "    return {'averages' : averages,'variations' : variations}"
   ]
  },
  {
   "cell_type": "code",
   "execution_count": 4,
   "metadata": {
    "collapsed": true,
    "deletable": true,
    "editable": true
   },
   "outputs": [],
   "source": [
    "def validation_load(path):\n",
    "    try :\n",
    "        input_file = open(path,'r',newline='')\n",
    "        reader = csv.reader(input_file, delimiter=',')\n",
    "        print(\"{} is loaded\".format(path))\n",
    "        temp = []\n",
    "        for row in reader:\n",
    "            temp.append(row)\n",
    "        temp = np.array(temp, dtype=np.float32)\n",
    "        temp = np.transpose(temp)\n",
    "        return temp\n",
    "    except FileNotFoundError:\n",
    "        print(\"No such File\")\n",
    "        temp = []\n",
    "        temp = np.array(temp)\n",
    "        return temp"
   ]
  },
  {
   "cell_type": "code",
   "execution_count": 5,
   "metadata": {
    "collapsed": true,
    "deletable": true,
    "editable": true
   },
   "outputs": [],
   "source": [
    "def time_axis_maker(array, sec_per_cell,init = 0):\n",
    "    final = init + sec_per_cell*(len(array)-1)\n",
    "    return np.linspace(init,final,len(array))"
   ]
  },
  {
   "cell_type": "code",
   "execution_count": 6,
   "metadata": {
    "collapsed": true,
    "deletable": true,
    "editable": true
   },
   "outputs": [],
   "source": [
    "def test_set_generator(result, start=0):\n",
    "    \n",
    "    original_length = len(result['averages'])\n",
    "    \n",
    "    input_data = np.zeros((2,test_length))\n",
    "    for i in range(test_length):\n",
    "        index = i%original_length\n",
    "        input_data[0][i] = result['averages'][start+index]\n",
    "        input_data[1][i] = result['variations'][start+index]\n",
    "    return input_data"
   ]
  },
  {
   "cell_type": "code",
   "execution_count": 7,
   "metadata": {
    "collapsed": true
   },
   "outputs": [],
   "source": [
    "load_dir = '/home/maestoj/medical_analysis/validation_csv'\n",
    "save_dir = '/home/maestoj/medical_analysis/project2/validation/'"
   ]
  },
  {
   "cell_type": "code",
   "execution_count": 11,
   "metadata": {
    "collapsed": true
   },
   "outputs": [],
   "source": [
    "index = 0\n",
    "\n",
    "output_file_name = 'validation/index_to_validation.csv'\n",
    "csv_file = open(output_file_name, \"w\")\n",
    "cw = csv.writer(csv_file , delimiter=',')\n",
    "\n",
    "name_dict = {}\n",
    "\n",
    "for path in glob.glob(load_dir+\"/*.csv\"):\n",
    "    index+=1\n",
    "    row = []\n",
    "    row.append(index)\n",
    "    row.append(path)    \n",
    "    cw.writerow(row)"
   ]
  },
  {
   "cell_type": "code",
   "execution_count": null,
   "metadata": {
    "collapsed": false,
    "deletable": true,
    "editable": true
   },
   "outputs": [],
   "source": [
    "restorer = tf.train.import_meta_graph('rnn_v6.meta')\n",
    "sess = tf.Session()\n",
    "restorer.restore(sess, tf.train.latest_checkpoint('./'))\n",
    "hypo_vars = tf.get_collection('hypothesis')\n",
    "input_vars = tf.get_collection('test_input')\n",
    "test_x = input_vars[0]\n",
    "temp_test_outputs = hypo_vars[0]"
   ]
  },
  {
   "cell_type": "code",
   "execution_count": null,
   "metadata": {
    "collapsed": false,
    "deletable": true,
    "editable": true
   },
   "outputs": [],
   "source": [
    "index = 0\n",
    "for path in glob.glob(load_dir+\"/*.csv\"):\n",
    "    index+=1\n",
    "    if index<12:\n",
    "        continue\n",
    "    start = 0\n",
    "    \n",
    "    result = downgrade_and_feature(validation_load(path))\n",
    "    time = time_axis_maker(result['averages'], striding/sampling_rate)\n",
    "    \n",
    "    plt.figure(figsize=(20,10))\n",
    "    plt.plot(time,result['averages'])\n",
    "    plt.title(\"Averages\".format(path,start))\n",
    "    save_file = os.path.join(save_dir,\"Averages{}_{}.png\".format(index,start))\n",
    "    plt.savefig(save_file)\n",
    "    plt.close()\n",
    "    \n",
    "    plt.figure(figsize=(20,10))\n",
    "    plt.plot(time,result['variations'])\n",
    "    plt.title(\"Variations\".format(path,start))\n",
    "    save_file = os.path.join(save_dir,\"Variations{}_{}.png\".format(index,start))\n",
    "    plt.savefig(save_file)\n",
    "    plt.close()\n",
    "    \n",
    "    while(start+test_length<len(result['averages'])):\n",
    "        input_data = test_set_generator(result, start)\n",
    "        input_data = np.reshape(input_data,[1,2,test_length])\n",
    "        temp = sess.run(temp_test_outputs[0], feed_dict = {test_x : input_data})\n",
    "        time = time_axis_maker(temp,striding/sampling_rate, start*striding/sampling_rate)   \n",
    "        \n",
    "        plt.figure(figsize=(20,10))\n",
    "        plt.plot(time, temp)\n",
    "        plt.title(\"prediction\".format(path,start))\n",
    "        save_file = os.path.join(save_dir,\"Prediction{}_{}.png\".format(index,start))\n",
    "        plt.savefig(save_file)\n",
    "        plt.close()\n",
    "        \n",
    "        flag = 0\n",
    "        point8 = 0\n",
    "        for i in range(len(temp)):\n",
    "            if temp[i]>0.8:\n",
    "                flag=1\n",
    "                point8 = i*striding/sampling_rate\n",
    "                break;\n",
    "        \n",
    "        if flag == 1:\n",
    "            difference = (point8 + 160)*sampling_rate/striding\n",
    "            print(\"Seizure_predicted on {}\".format((start+difference)*striding/sampling_rate))\n",
    "            start = int(start+3*difference/4)\n",
    "        else :\n",
    "            print(\"No seizure\")\n",
    "            start += int(3*test_length/4)\n",
    "      \n",
    "    start = len(result['averages']) - test_length\n",
    "    input_data = test_set_generator(result, start)\n",
    "    input_data = np.reshape(input_data,[1,2,test_length])\n",
    "    temp = sess.run(temp_test_outputs[0], feed_dict = {test_x : input_data})\n",
    "    time = time_axis_maker(temp,striding/sampling_rate, start*striding/sampling_rate)   \n",
    "\n",
    "    plt.figure(figsize=(20,10))\n",
    "    plt.plot(time, temp)\n",
    "    plt.title(\"prediction\".format(path,start))\n",
    "    save_file = os.path.join(save_dir,\"Prediction{}_{}.png\".format(index,start))\n",
    "    plt.savefig(save_file)\n",
    "    plt.close()\n",
    "\n",
    "    flag = 0\n",
    "    point8 = 0\n",
    "    for i in range(len(temp)):\n",
    "        if temp[i]>0.8:\n",
    "            flag=1\n",
    "            point8 = i*striding/sampling_rate\n",
    "            break;\n",
    "\n",
    "    if flag == 1:\n",
    "        difference = (point8 + 160)*sampling_rate/striding\n",
    "        print(\"Seizure_predicted on {}\".format((start+difference)*striding/sampling_rate))\n",
    "        start = int(start+3*difference/4)\n",
    "    else :\n",
    "        print(\"No seizure\")\n",
    "        start += int(3*test_length/4)\n"
   ]
  }
 ],
 "metadata": {
  "anaconda-cloud": {},
  "kernelspec": {
   "display_name": "Python 3",
   "language": "python",
   "name": "python3"
  },
  "language_info": {
   "codemirror_mode": {
    "name": "ipython",
    "version": 3
   },
   "file_extension": ".py",
   "mimetype": "text/x-python",
   "name": "python",
   "nbconvert_exporter": "python",
   "pygments_lexer": "ipython3",
   "version": "3.5.2"
  }
 },
 "nbformat": 4,
 "nbformat_minor": 2
}
